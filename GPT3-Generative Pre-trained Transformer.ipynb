{
 "cells": [
  {
   "cell_type": "code",
   "execution_count": 1,
   "metadata": {
    "scrolled": true
   },
   "outputs": [
    {
     "name": "stdout",
     "output_type": "stream",
     "text": [
      "Requirement already up-to-date: scikit-learn in c:\\users\\tahir\\anaconda3\\lib\\site-packages (1.0.2)\n",
      "Requirement already satisfied, skipping upgrade: scipy>=1.1.0 in c:\\users\\tahir\\anaconda3\\lib\\site-packages (from scikit-learn) (1.4.1)\n",
      "Requirement already satisfied, skipping upgrade: threadpoolctl>=2.0.0 in c:\\users\\tahir\\anaconda3\\lib\\site-packages (from scikit-learn) (2.2.0)\n",
      "Requirement already satisfied, skipping upgrade: numpy>=1.14.6 in c:\\users\\tahir\\anaconda3\\lib\\site-packages (from scikit-learn) (1.21.5)\n",
      "Requirement already satisfied, skipping upgrade: joblib>=0.11 in c:\\users\\tahir\\anaconda3\\lib\\site-packages (from scikit-learn) (0.14.1)\n"
     ]
    }
   ],
   "source": [
    "!pip install --upgrade scikit-learn"
   ]
  },
  {
   "cell_type": "code",
   "execution_count": 1,
   "metadata": {},
   "outputs": [],
   "source": [
    "import numpy as np \n",
    "import pandas as pd \n",
    "import matplotlib.pyplot as plt\n",
    "import os\n",
    "import pickle\n",
    "\n",
    "import tensorflow as tf\n",
    "from tensorflow import keras\n",
    "from tensorflow.keras import layers\n",
    "from tensorflow.keras.layers.experimental.preprocessing import TextVectorization\n",
    "import re\n",
    "import string\n",
    "import random\n",
    "from sklearn.model_selection import train_test_split\n",
    "from collections import Counter\n",
    "import seaborn as sns\n",
    "from io import StringIO\n",
    "from sklearn.feature_extraction.text import TfidfVectorizer\n",
    "from sklearn.feature_selection import chi2\n",
    "from IPython.display import display\n",
    "from sklearn.feature_extraction.text import TfidfTransformer\n",
    "from sklearn.model_selection import cross_val_score\n",
    "from sklearn import metrics\n",
    "from sklearn.metrics import confusion_matrix\n",
    "import matplotlib.pyplot as plt\n",
    "from sklearn.metrics import roc_auc_score\n",
    "from sklearn.metrics import balanced_accuracy_score\n",
    "from sklearn.model_selection import KFold\n",
    "from sklearn.metrics import accuracy_score\n",
    "from sklearn.metrics import top_k_accuracy_score\n",
    "from sklearn.metrics import f1_score\n",
    "from sklearn.metrics import matthews_corrcoef\n",
    "from sklearn.metrics import mean_squared_error"
   ]
  },
  {
   "cell_type": "code",
   "execution_count": 2,
   "metadata": {},
   "outputs": [],
   "source": [
    "import warnings\n",
    "warnings.filterwarnings('ignore')"
   ]
  },
  {
   "cell_type": "code",
   "execution_count": 3,
   "metadata": {},
   "outputs": [
    {
     "name": "stdout",
     "output_type": "stream",
     "text": [
      "Requirement already satisfied: ipython-autotime in c:\\users\\tahir\\anaconda3\\lib\\site-packages (0.3.1)\n",
      "Requirement already satisfied: ipython in c:\\users\\tahir\\anaconda3\\lib\\site-packages (from ipython-autotime) (7.12.0)\n",
      "Requirement already satisfied: pickleshare in c:\\users\\tahir\\anaconda3\\lib\\site-packages (from ipython->ipython-autotime) (0.7.5)\n",
      "Requirement already satisfied: traitlets>=4.2 in c:\\users\\tahir\\anaconda3\\lib\\site-packages (from ipython->ipython-autotime) (4.3.3)\n",
      "Requirement already satisfied: jedi>=0.10 in c:\\users\\tahir\\anaconda3\\lib\\site-packages (from ipython->ipython-autotime) (0.14.1)\n",
      "Requirement already satisfied: decorator in c:\\users\\tahir\\anaconda3\\lib\\site-packages (from ipython->ipython-autotime) (4.4.1)\n",
      "Requirement already satisfied: backcall in c:\\users\\tahir\\anaconda3\\lib\\site-packages (from ipython->ipython-autotime) (0.1.0)\n",
      "Requirement already satisfied: colorama; sys_platform == \"win32\" in c:\\users\\tahir\\anaconda3\\lib\\site-packages (from ipython->ipython-autotime) (0.4.3)\n",
      "Requirement already satisfied: setuptools>=18.5 in c:\\users\\tahir\\anaconda3\\lib\\site-packages (from ipython->ipython-autotime) (45.2.0.post20200210)\n",
      "Requirement already satisfied: prompt-toolkit!=3.0.0,!=3.0.1,<3.1.0,>=2.0.0 in c:\\users\\tahir\\anaconda3\\lib\\site-packages (from ipython->ipython-autotime) (3.0.3)\n",
      "Requirement already satisfied: pygments in c:\\users\\tahir\\anaconda3\\lib\\site-packages (from ipython->ipython-autotime) (2.5.2)\n",
      "Requirement already satisfied: ipython-genutils in c:\\users\\tahir\\anaconda3\\lib\\site-packages (from traitlets>=4.2->ipython->ipython-autotime) (0.2.0)\n",
      "Requirement already satisfied: six in c:\\users\\tahir\\anaconda3\\lib\\site-packages (from traitlets>=4.2->ipython->ipython-autotime) (1.14.0)\n",
      "Requirement already satisfied: parso>=0.5.0 in c:\\users\\tahir\\anaconda3\\lib\\site-packages (from jedi>=0.10->ipython->ipython-autotime) (0.5.2)\n",
      "Requirement already satisfied: wcwidth in c:\\users\\tahir\\anaconda3\\lib\\site-packages (from prompt-toolkit!=3.0.0,!=3.0.1,<3.1.0,>=2.0.0->ipython->ipython-autotime) (0.1.8)\n",
      "time: 0 ns (started: 2022-05-14 12:43:22 +08:00)\n"
     ]
    }
   ],
   "source": [
    "#@title Record Each Cell's Execution Time\n",
    "!pip install ipython-autotime\n",
    "\n",
    "%load_ext autotime"
   ]
  },
  {
   "cell_type": "code",
   "execution_count": 4,
   "metadata": {},
   "outputs": [
    {
     "name": "stdout",
     "output_type": "stream",
     "text": [
      "                                        Base_Reviews    category\n",
      "0  Downloaded this on a Kindle Fire 8 HD.  No ind...    decision\n",
      "1  It's free to download the app, but if you want...    decision\n",
      "2  I download this app to my Kindle Fire HD. I tr...       issue\n",
      "3  Dirty trickster! It found my printer and print...       issue\n",
      "4                Love this for my kindle print needs  supporting\n",
      "195360\n",
      "time: 63 ms (started: 2022-05-14 12:43:22 +08:00)\n"
     ]
    }
   ],
   "source": [
    "data = pd.read_csv('Labbeled-Dataset_GPT.csv', encoding='latin1', engine='python',usecols=['Base_Reviews','category'])\n",
    "data = data[pd.notnull(data['category'])]\n",
    "print(data.head())\n",
    "print(data['Base_Reviews'].astype(str).apply(lambda x: len(x.split(' '))).sum())"
   ]
  },
  {
   "cell_type": "code",
   "execution_count": 5,
   "metadata": {},
   "outputs": [
    {
     "name": "stdout",
     "output_type": "stream",
     "text": [
      "<class 'pandas.core.frame.DataFrame'>\n",
      "Int64Index: 11419 entries, 0 to 11418\n",
      "Data columns (total 2 columns):\n",
      " #   Column        Non-Null Count  Dtype \n",
      "---  ------        --------------  ----- \n",
      " 0   Base_Reviews  11419 non-null  object\n",
      " 1   category      11419 non-null  object\n",
      "dtypes: object(2)\n",
      "memory usage: 267.6+ KB\n",
      "time: 32 ms (started: 2022-05-14 12:43:24 +08:00)\n"
     ]
    }
   ],
   "source": [
    "data.info()"
   ]
  },
  {
   "cell_type": "code",
   "execution_count": 6,
   "metadata": {},
   "outputs": [
    {
     "data": {
      "text/html": [
       "<div>\n",
       "<style scoped>\n",
       "    .dataframe tbody tr th:only-of-type {\n",
       "        vertical-align: middle;\n",
       "    }\n",
       "\n",
       "    .dataframe tbody tr th {\n",
       "        vertical-align: top;\n",
       "    }\n",
       "\n",
       "    .dataframe thead th {\n",
       "        text-align: right;\n",
       "    }\n",
       "</style>\n",
       "<table border=\"1\" class=\"dataframe\">\n",
       "  <thead>\n",
       "    <tr style=\"text-align: right;\">\n",
       "      <th></th>\n",
       "      <th>Base_Reviews</th>\n",
       "      <th>category</th>\n",
       "    </tr>\n",
       "  </thead>\n",
       "  <tbody>\n",
       "    <tr>\n",
       "      <th>0</th>\n",
       "      <td>Downloaded this on a Kindle Fire 8 HD.  No ind...</td>\n",
       "      <td>decision</td>\n",
       "    </tr>\n",
       "    <tr>\n",
       "      <th>1</th>\n",
       "      <td>It's free to download the app, but if you want...</td>\n",
       "      <td>decision</td>\n",
       "    </tr>\n",
       "    <tr>\n",
       "      <th>2</th>\n",
       "      <td>I download this app to my Kindle Fire HD. I tr...</td>\n",
       "      <td>issue</td>\n",
       "    </tr>\n",
       "    <tr>\n",
       "      <th>3</th>\n",
       "      <td>Dirty trickster! It found my printer and print...</td>\n",
       "      <td>issue</td>\n",
       "    </tr>\n",
       "    <tr>\n",
       "      <th>4</th>\n",
       "      <td>Love this for my kindle print needs</td>\n",
       "      <td>supporting</td>\n",
       "    </tr>\n",
       "  </tbody>\n",
       "</table>\n",
       "</div>"
      ],
      "text/plain": [
       "                                        Base_Reviews    category\n",
       "0  Downloaded this on a Kindle Fire 8 HD.  No ind...    decision\n",
       "1  It's free to download the app, but if you want...    decision\n",
       "2  I download this app to my Kindle Fire HD. I tr...       issue\n",
       "3  Dirty trickster! It found my printer and print...       issue\n",
       "4                Love this for my kindle print needs  supporting"
      ]
     },
     "execution_count": 6,
     "metadata": {},
     "output_type": "execute_result"
    },
    {
     "name": "stdout",
     "output_type": "stream",
     "text": [
      "time: 16 ms (started: 2022-05-14 12:43:24 +08:00)\n"
     ]
    }
   ],
   "source": [
    "data.head(5)"
   ]
  },
  {
   "cell_type": "code",
   "execution_count": 7,
   "metadata": {},
   "outputs": [
    {
     "data": {
      "text/plain": [
       "supporting    5117\n",
       "attacking     2949\n",
       "issue         2191\n",
       "neutral        659\n",
       "decision       503\n",
       "Name: category, dtype: int64"
      ]
     },
     "execution_count": 7,
     "metadata": {},
     "output_type": "execute_result"
    },
    {
     "name": "stdout",
     "output_type": "stream",
     "text": [
      "time: 0 ns (started: 2022-05-14 12:43:25 +08:00)\n"
     ]
    }
   ],
   "source": [
    "data.category.value_counts()"
   ]
  },
  {
   "cell_type": "code",
   "execution_count": 8,
   "metadata": {},
   "outputs": [
    {
     "data": {
      "text/html": [
       "<div>\n",
       "<style scoped>\n",
       "    .dataframe tbody tr th:only-of-type {\n",
       "        vertical-align: middle;\n",
       "    }\n",
       "\n",
       "    .dataframe tbody tr th {\n",
       "        vertical-align: top;\n",
       "    }\n",
       "\n",
       "    .dataframe thead th {\n",
       "        text-align: right;\n",
       "    }\n",
       "</style>\n",
       "<table border=\"1\" class=\"dataframe\">\n",
       "  <thead>\n",
       "    <tr style=\"text-align: right;\">\n",
       "      <th></th>\n",
       "      <th>Base_Reviews</th>\n",
       "      <th>category</th>\n",
       "    </tr>\n",
       "  </thead>\n",
       "  <tbody>\n",
       "    <tr>\n",
       "      <th>count</th>\n",
       "      <td>11419</td>\n",
       "      <td>11419</td>\n",
       "    </tr>\n",
       "    <tr>\n",
       "      <th>unique</th>\n",
       "      <td>9875</td>\n",
       "      <td>5</td>\n",
       "    </tr>\n",
       "    <tr>\n",
       "      <th>top</th>\n",
       "      <td>Good</td>\n",
       "      <td>supporting</td>\n",
       "    </tr>\n",
       "    <tr>\n",
       "      <th>freq</th>\n",
       "      <td>52</td>\n",
       "      <td>5117</td>\n",
       "    </tr>\n",
       "  </tbody>\n",
       "</table>\n",
       "</div>"
      ],
      "text/plain": [
       "       Base_Reviews    category\n",
       "count         11419       11419\n",
       "unique         9875           5\n",
       "top            Good  supporting\n",
       "freq             52        5117"
      ]
     },
     "execution_count": 8,
     "metadata": {},
     "output_type": "execute_result"
    },
    {
     "name": "stdout",
     "output_type": "stream",
     "text": [
      "time: 15 ms (started: 2022-05-14 12:43:25 +08:00)\n"
     ]
    }
   ],
   "source": [
    "data.describe()"
   ]
  },
  {
   "cell_type": "code",
   "execution_count": 9,
   "metadata": {},
   "outputs": [
    {
     "data": {
      "text/plain": [
       "False    9875\n",
       "True     1544\n",
       "Name: Base_Reviews, dtype: int64"
      ]
     },
     "execution_count": 9,
     "metadata": {},
     "output_type": "execute_result"
    },
    {
     "name": "stdout",
     "output_type": "stream",
     "text": [
      "time: 0 ns (started: 2022-05-14 12:43:26 +08:00)\n"
     ]
    }
   ],
   "source": [
    "data.Base_Reviews.duplicated(keep=\"first\").value_counts()"
   ]
  },
  {
   "cell_type": "code",
   "execution_count": 10,
   "metadata": {},
   "outputs": [
    {
     "data": {
      "text/html": [
       "<div>\n",
       "<style scoped>\n",
       "    .dataframe tbody tr th:only-of-type {\n",
       "        vertical-align: middle;\n",
       "    }\n",
       "\n",
       "    .dataframe tbody tr th {\n",
       "        vertical-align: top;\n",
       "    }\n",
       "\n",
       "    .dataframe thead th {\n",
       "        text-align: right;\n",
       "    }\n",
       "</style>\n",
       "<table border=\"1\" class=\"dataframe\">\n",
       "  <thead>\n",
       "    <tr style=\"text-align: right;\">\n",
       "      <th></th>\n",
       "      <th>Base_Reviews</th>\n",
       "      <th>category</th>\n",
       "    </tr>\n",
       "  </thead>\n",
       "  <tbody>\n",
       "    <tr>\n",
       "      <th>count</th>\n",
       "      <td>9875</td>\n",
       "      <td>9875</td>\n",
       "    </tr>\n",
       "    <tr>\n",
       "      <th>unique</th>\n",
       "      <td>9875</td>\n",
       "      <td>5</td>\n",
       "    </tr>\n",
       "    <tr>\n",
       "      <th>top</th>\n",
       "      <td>Downloaded this on a Kindle Fire 8 HD.  No ind...</td>\n",
       "      <td>supporting</td>\n",
       "    </tr>\n",
       "    <tr>\n",
       "      <th>freq</th>\n",
       "      <td>1</td>\n",
       "      <td>4712</td>\n",
       "    </tr>\n",
       "  </tbody>\n",
       "</table>\n",
       "</div>"
      ],
      "text/plain": [
       "                                             Base_Reviews    category\n",
       "count                                                9875        9875\n",
       "unique                                               9875           5\n",
       "top     Downloaded this on a Kindle Fire 8 HD.  No ind...  supporting\n",
       "freq                                                    1        4712"
      ]
     },
     "execution_count": 10,
     "metadata": {},
     "output_type": "execute_result"
    },
    {
     "name": "stdout",
     "output_type": "stream",
     "text": [
      "time: 16 ms (started: 2022-05-14 12:43:26 +08:00)\n"
     ]
    }
   ],
   "source": [
    "data.drop_duplicates(subset=\"Base_Reviews\",keep=\"first\",inplace=True,ignore_index=True)\n",
    "data.describe()"
   ]
  },
  {
   "cell_type": "code",
   "execution_count": 11,
   "metadata": {},
   "outputs": [
    {
     "data": {
      "text/plain": [
       "supporting    4712\n",
       "attacking     2363\n",
       "issue         2004\n",
       "decision       444\n",
       "neutral        352\n",
       "Name: category, dtype: int64"
      ]
     },
     "execution_count": 11,
     "metadata": {},
     "output_type": "execute_result"
    },
    {
     "name": "stdout",
     "output_type": "stream",
     "text": [
      "time: 0 ns (started: 2022-05-14 12:43:27 +08:00)\n"
     ]
    }
   ],
   "source": [
    "data.category.value_counts()"
   ]
  },
  {
   "cell_type": "code",
   "execution_count": 12,
   "metadata": {},
   "outputs": [
    {
     "data": {
      "image/png": "[encoded data removed]",
      "text/plain": [
       "<Figure size 576x432 with 1 Axes>"
      ]
     },
     "metadata": {
      "needs_background": "light"
     },
     "output_type": "display_data"
    },
    {
     "name": "stdout",
     "output_type": "stream",
     "text": [
      "time: 593 ms (started: 2022-05-14 12:43:35 +08:00)\n"
     ]
    }
   ],
   "source": [
    "fig = plt.figure(figsize=(8,6))\n",
    "data.groupby('category').Base_Reviews.count().plot.bar(ylim=0)\n",
    "plt.show()"
   ]
  },
  {
   "cell_type": "code",
   "execution_count": 13,
   "metadata": {},
   "outputs": [
    {
     "name": "stdout",
     "output_type": "stream",
     "text": [
      "time: 16 ms (started: 2022-05-14 12:43:35 +08:00)\n"
     ]
    }
   ],
   "source": [
    "data['words'] = [len(x.split()) for x in data['Base_Reviews'].tolist()]"
   ]
  },
  {
   "cell_type": "code",
   "execution_count": 14,
   "metadata": {},
   "outputs": [
    {
     "data": {
      "text/plain": [
       "count    9875.000000\n",
       "mean       18.731646\n",
       "std        22.151459\n",
       "min         1.000000\n",
       "25%         6.000000\n",
       "50%        12.000000\n",
       "75%        24.000000\n",
       "max       375.000000\n",
       "Name: words, dtype: float64"
      ]
     },
     "execution_count": 14,
     "metadata": {},
     "output_type": "execute_result"
    },
    {
     "name": "stdout",
     "output_type": "stream",
     "text": [
      "time: 16 ms (started: 2022-05-14 12:43:36 +08:00)\n"
     ]
    }
   ],
   "source": [
    "data['words'].describe()"
   ]
  },
  {
   "cell_type": "code",
   "execution_count": 15,
   "metadata": {},
   "outputs": [
    {
     "data": {
      "text/plain": [
       "<matplotlib.axes._subplots.AxesSubplot at 0x12546bf07c8>"
      ]
     },
     "execution_count": 15,
     "metadata": {},
     "output_type": "execute_result"
    },
    {
     "data": {
      "image/png": "[encoded data removed]",
      "text/plain": [
       "<Figure size 432x288 with 1 Axes>"
      ]
     },
     "metadata": {
      "needs_background": "light"
     },
     "output_type": "display_data"
    },
    {
     "name": "stdout",
     "output_type": "stream",
     "text": [
      "time: 141 ms (started: 2022-05-14 12:43:37 +08:00)\n"
     ]
    }
   ],
   "source": [
    "# Distribution of words in each review\n",
    "data.Base_Reviews.str.split().\\\n",
    "    map(lambda x: len(x)).\\\n",
    "    hist()"
   ]
  },
  {
   "cell_type": "code",
   "execution_count": 16,
   "metadata": {},
   "outputs": [
    {
     "name": "stdout",
     "output_type": "stream",
     "text": [
      "CAPITALIZATION in this review is NOT screaming ... just highlighting ...My initial \"review to myself\" was positive, when I tested a plain, short \"Word\" style document. It seemed to work just fine, and NOBODY releases software that doesn't work do they? snort!!! So I bought the program, and BOY! am I SORRY! that I did so, because I can now no longer get a refund as I have struggled SO long and SO hard, trying to make this piece of software do the simplest tasks.There is SO much of this app that either just plain does not work, or has VERY limited functionality, or does not work quite right, that I CANNOT in good conscience recommend this app to ANYONE for ANY reason.I have written to Support twice, and beyond the \"We have received your request...\" email notice, I have received NO response whatsoever to my request for assistance or clarification.The so called HELP system is more a list of what the menu options are than they are instructions on how to use this app. As a help system, it is WOEFULLY, and PITIFULLY inadequate. So mix the fact that parts of it, despite being available to the user, just do not work, the lack of reliable support and the lack of a comprehensive help system, and you get a miserable, FAILED attempt at a piece of software that should not have gone to market for a SIGNIFICANT additional period of time for development.And when I bought this, my ONLY option was a subscription so that I have to pay for it again, and AGAIN, EVERY year. What the heck happened to just being able to BUY a piece of software?These people need a couple of million bucks of investment money so that they can do some more development on this software so that it WORKS, and works COMPLETELY before they start selling it. As it stands, it needs a LOT more development. While SOME small parts of it DO work, it is NOT a replacement for microsoft office. There is just too much of it that does not work to warrant buying this app.I just CANNOT imagine a greater waste of money. This is probably THE worst purhase that I have EVER made online.\n",
      "time: 0 ns (started: 2022-05-14 12:43:38 +08:00)\n"
     ]
    }
   ],
   "source": [
    "print(max(data['Base_Reviews'], key=len))"
   ]
  },
  {
   "cell_type": "code",
   "execution_count": 17,
   "metadata": {},
   "outputs": [
    {
     "name": "stdout",
     "output_type": "stream",
     "text": [
      "Ok\n",
      "time: 15 ms (started: 2022-05-14 12:43:38 +08:00)\n"
     ]
    }
   ],
   "source": [
    "print(min(data['Base_Reviews'], key=len))"
   ]
  },
  {
   "cell_type": "code",
   "execution_count": 18,
   "metadata": {},
   "outputs": [
    {
     "data": {
      "text/plain": [
       "0       Downloaded this on a Kindle Fire 8 HD.  No ind...\n",
       "1       It's free to download the app, but if you want...\n",
       "2       I download this app to my Kindle Fire HD. I tr...\n",
       "3       Dirty trickster! It found my printer and print...\n",
       "4                     Love this for my kindle print needs\n",
       "                              ...                        \n",
       "9870                       Not convinced but a bit of fun\n",
       "9871                                                Faker\n",
       "9872                                 It's actually good(:\n",
       "9873                              Never ordered this item\n",
       "9874                         Load of rubbish, deleted app\n",
       "Name: Base_Reviews, Length: 9875, dtype: object"
      ]
     },
     "execution_count": 18,
     "metadata": {},
     "output_type": "execute_result"
    },
    {
     "name": "stdout",
     "output_type": "stream",
     "text": [
      "time: 0 ns (started: 2022-05-14 12:43:39 +08:00)\n"
     ]
    }
   ],
   "source": [
    "data[\"Base_Reviews\"]"
   ]
  },
  {
   "cell_type": "code",
   "execution_count": 19,
   "metadata": {},
   "outputs": [
    {
     "data": {
      "text/plain": [
       "0         decision\n",
       "1         decision\n",
       "2            issue\n",
       "3            issue\n",
       "4       supporting\n",
       "           ...    \n",
       "9870       neutral\n",
       "9871     attacking\n",
       "9872       neutral\n",
       "9873      decision\n",
       "9874      decision\n",
       "Name: category, Length: 9875, dtype: object"
      ]
     },
     "execution_count": 19,
     "metadata": {},
     "output_type": "execute_result"
    },
    {
     "name": "stdout",
     "output_type": "stream",
     "text": [
      "time: 0 ns (started: 2022-05-14 12:43:39 +08:00)\n"
     ]
    }
   ],
   "source": [
    "data[\"category\"]"
   ]
  },
  {
   "cell_type": "code",
   "execution_count": 20,
   "metadata": {},
   "outputs": [
    {
     "data": {
      "text/plain": [
       "Base_Reviews      object\n",
       "category        category\n",
       "words              int64\n",
       "dtype: object"
      ]
     },
     "execution_count": 20,
     "metadata": {},
     "output_type": "execute_result"
    },
    {
     "name": "stdout",
     "output_type": "stream",
     "text": [
      "time: 0 ns (started: 2022-05-14 12:43:40 +08:00)\n"
     ]
    }
   ],
   "source": [
    "data[\"category\"] = data[\"category\"].astype('category') #By converting an existing Series or column to a category dtype\n",
    "data.dtypes"
   ]
  },
  {
   "cell_type": "code",
   "execution_count": 21,
   "metadata": {},
   "outputs": [
    {
     "data": {
      "text/html": [
       "<div>\n",
       "<style scoped>\n",
       "    .dataframe tbody tr th:only-of-type {\n",
       "        vertical-align: middle;\n",
       "    }\n",
       "\n",
       "    .dataframe tbody tr th {\n",
       "        vertical-align: top;\n",
       "    }\n",
       "\n",
       "    .dataframe thead th {\n",
       "        text-align: right;\n",
       "    }\n",
       "</style>\n",
       "<table border=\"1\" class=\"dataframe\">\n",
       "  <thead>\n",
       "    <tr style=\"text-align: right;\">\n",
       "      <th></th>\n",
       "      <th>Base_Reviews</th>\n",
       "      <th>category</th>\n",
       "      <th>words</th>\n",
       "      <th>category_id</th>\n",
       "    </tr>\n",
       "  </thead>\n",
       "  <tbody>\n",
       "    <tr>\n",
       "      <th>9870</th>\n",
       "      <td>Not convinced but a bit of fun</td>\n",
       "      <td>neutral</td>\n",
       "      <td>7</td>\n",
       "      <td>3</td>\n",
       "    </tr>\n",
       "    <tr>\n",
       "      <th>9871</th>\n",
       "      <td>Faker</td>\n",
       "      <td>attacking</td>\n",
       "      <td>1</td>\n",
       "      <td>0</td>\n",
       "    </tr>\n",
       "    <tr>\n",
       "      <th>9872</th>\n",
       "      <td>It's actually good(:</td>\n",
       "      <td>neutral</td>\n",
       "      <td>3</td>\n",
       "      <td>3</td>\n",
       "    </tr>\n",
       "    <tr>\n",
       "      <th>9873</th>\n",
       "      <td>Never ordered this item</td>\n",
       "      <td>decision</td>\n",
       "      <td>4</td>\n",
       "      <td>1</td>\n",
       "    </tr>\n",
       "    <tr>\n",
       "      <th>9874</th>\n",
       "      <td>Load of rubbish, deleted app</td>\n",
       "      <td>decision</td>\n",
       "      <td>5</td>\n",
       "      <td>1</td>\n",
       "    </tr>\n",
       "  </tbody>\n",
       "</table>\n",
       "</div>"
      ],
      "text/plain": [
       "                        Base_Reviews   category  words  category_id\n",
       "9870  Not convinced but a bit of fun    neutral      7            3\n",
       "9871                           Faker  attacking      1            0\n",
       "9872            It's actually good(:    neutral      3            3\n",
       "9873         Never ordered this item   decision      4            1\n",
       "9874    Load of rubbish, deleted app   decision      5            1"
      ]
     },
     "execution_count": 21,
     "metadata": {},
     "output_type": "execute_result"
    },
    {
     "name": "stdout",
     "output_type": "stream",
     "text": [
      "time: 0 ns (started: 2022-05-14 12:43:41 +08:00)\n"
     ]
    }
   ],
   "source": [
    "data[\"category_id\"] = data[\"category\"].cat.codes\n",
    "data.tail()"
   ]
  },
  {
   "cell_type": "code",
   "execution_count": 22,
   "metadata": {},
   "outputs": [
    {
     "data": {
      "text/plain": [
       "Base_Reviews      object\n",
       "category        category\n",
       "words              int64\n",
       "category_id         int8\n",
       "dtype: object"
      ]
     },
     "execution_count": 22,
     "metadata": {},
     "output_type": "execute_result"
    },
    {
     "name": "stdout",
     "output_type": "stream",
     "text": [
      "time: 0 ns (started: 2022-05-14 12:43:42 +08:00)\n"
     ]
    }
   ],
   "source": [
    "data.dtypes"
   ]
  },
  {
   "cell_type": "code",
   "execution_count": 23,
   "metadata": {},
   "outputs": [
    {
     "data": {
      "text/plain": [
       "{1: 'decision', 2: 'issue', 4: 'supporting', 0: 'attacking', 3: 'neutral'}"
      ]
     },
     "execution_count": 23,
     "metadata": {},
     "output_type": "execute_result"
    },
    {
     "name": "stdout",
     "output_type": "stream",
     "text": [
      "time: 156 ms (started: 2022-05-14 12:43:42 +08:00)\n"
     ]
    }
   ],
   "source": [
    "id_to_category = pd.Series(data.category.values,index=data.category_id).to_dict()\n",
    "id_to_category"
   ]
  },
  {
   "cell_type": "code",
   "execution_count": 24,
   "metadata": {},
   "outputs": [
    {
     "data": {
      "text/plain": [
       "{'decision': 1, 'issue': 2, 'supporting': 4, 'attacking': 0, 'neutral': 3}"
      ]
     },
     "execution_count": 24,
     "metadata": {},
     "output_type": "execute_result"
    },
    {
     "name": "stdout",
     "output_type": "stream",
     "text": [
      "time: 0 ns (started: 2022-05-14 12:43:44 +08:00)\n"
     ]
    }
   ],
   "source": [
    "category_to_id= {v:k for k,v in id_to_category.items()}\n",
    "category_to_id"
   ]
  },
  {
   "cell_type": "code",
   "execution_count": 25,
   "metadata": {},
   "outputs": [
    {
     "data": {
      "text/plain": [
       "5"
      ]
     },
     "execution_count": 25,
     "metadata": {},
     "output_type": "execute_result"
    },
    {
     "name": "stdout",
     "output_type": "stream",
     "text": [
      "time: 0 ns (started: 2022-05-14 12:43:44 +08:00)\n"
     ]
    }
   ],
   "source": [
    "number_of_categories = len(category_to_id)\n",
    "number_of_categories"
   ]
  },
  {
   "cell_type": "code",
   "execution_count": 26,
   "metadata": {},
   "outputs": [
    {
     "name": "stdout",
     "output_type": "stream",
     "text": [
      "time: 250 ms (started: 2022-05-14 12:43:45 +08:00)\n"
     ]
    }
   ],
   "source": [
    "wordList = list()\n",
    "for i in range(len(data)):\n",
    "    temp = data.Base_Reviews[i].split()\n",
    "    for k in temp:\n",
    "        k = re.sub(\"[^a-zA-ZğĞüÜşŞıİöÖçÇ]\",\"\",k)\n",
    "        if k != \"\":\n",
    "            wordList.append(k)"
   ]
  },
  {
   "cell_type": "code",
   "execution_count": 27,
   "metadata": {},
   "outputs": [
    {
     "name": "stdout",
     "output_type": "stream",
     "text": [
      "Most Used 20 Words\n",
      "to : 7201\n",
      "I : 6259\n",
      "the : 5249\n",
      "it : 4922\n",
      "and : 4552\n",
      "a : 3462\n",
      "app : 3242\n",
      "my : 3117\n",
      "is : 2413\n",
      "for : 2350\n",
      "this : 2212\n",
      "not : 2008\n",
      "on : 1783\n",
      "of : 1700\n",
      "with : 1588\n",
      "you : 1559\n",
      "have : 1485\n",
      "but : 1422\n",
      "work : 1373\n",
      "that : 1322\n",
      "time: 31 ms (started: 2022-05-14 12:43:46 +08:00)\n"
     ]
    }
   ],
   "source": [
    "wordCount = Counter(wordList)\n",
    "countedWordDict = dict(wordCount)\n",
    "sortedWordDict = sorted(countedWordDict.items(),key = lambda x : x[1],reverse=True)\n",
    "\n",
    "print(\"Most Used 20 Words\")\n",
    "for word,counted in sortedWordDict[0:20]:\n",
    "    print(\"{} : {}\".format(word,counted))"
   ]
  },
  {
   "cell_type": "code",
   "execution_count": 28,
   "metadata": {},
   "outputs": [
    {
     "name": "stdout",
     "output_type": "stream",
     "text": [
      "time: 0 ns (started: 2022-05-14 12:43:47 +08:00)\n"
     ]
    }
   ],
   "source": [
    "for i in data[\"Base_Reviews\"][7:10]:\n",
    "    if \"oku\" in i:\n",
    "        print(i)\n",
    "        print(\"*\"*20)"
   ]
  },
  {
   "cell_type": "code",
   "execution_count": 29,
   "metadata": {},
   "outputs": [
    {
     "name": "stdout",
     "output_type": "stream",
     "text": [
      "Requirement already satisfied: wordcloud in c:\\users\\tahir\\anaconda3\\lib\\site-packages (1.8.1)\n",
      "Requirement already satisfied: pillow in c:\\users\\tahir\\anaconda3\\lib\\site-packages (from wordcloud) (7.0.0)\n",
      "Requirement already satisfied: matplotlib in c:\\users\\tahir\\anaconda3\\lib\\site-packages (from wordcloud) (3.1.3)\n",
      "Requirement already satisfied: numpy>=1.6.1 in c:\\users\\tahir\\anaconda3\\lib\\site-packages (from wordcloud) (1.21.5)\n",
      "Requirement already satisfied: cycler>=0.10 in c:\\users\\tahir\\anaconda3\\lib\\site-packages (from matplotlib->wordcloud) (0.10.0)\n",
      "Requirement already satisfied: pyparsing!=2.0.4,!=2.1.2,!=2.1.6,>=2.0.1 in c:\\users\\tahir\\anaconda3\\lib\\site-packages (from matplotlib->wordcloud) (2.4.6)\n",
      "Requirement already satisfied: kiwisolver>=1.0.1 in c:\\users\\tahir\\anaconda3\\lib\\site-packages (from matplotlib->wordcloud) (1.1.0)\n",
      "Requirement already satisfied: python-dateutil>=2.1 in c:\\users\\tahir\\anaconda3\\lib\\site-packages (from matplotlib->wordcloud) (2.8.1)\n",
      "Requirement already satisfied: six in c:\\users\\tahir\\anaconda3\\lib\\site-packages (from cycler>=0.10->matplotlib->wordcloud) (1.14.0)\n",
      "Requirement already satisfied: setuptools in c:\\users\\tahir\\anaconda3\\lib\\site-packages (from kiwisolver>=1.0.1->matplotlib->wordcloud) (45.2.0.post20200210)\n",
      "time: 3 s (started: 2022-05-14 12:44:03 +08:00)\n"
     ]
    }
   ],
   "source": [
    "!pip install wordcloud"
   ]
  },
  {
   "cell_type": "code",
   "execution_count": 30,
   "metadata": {},
   "outputs": [
    {
     "data": {
      "image/png": "[encoded data removed]",
      "text/plain": [
       "<Figure size 720x1080 with 1 Axes>"
      ]
     },
     "metadata": {
      "needs_background": "light"
     },
     "output_type": "display_data"
    },
    {
     "name": "stdout",
     "output_type": "stream",
     "text": [
      "time: 2.78 s (started: 2022-05-14 12:44:08 +08:00)\n"
     ]
    }
   ],
   "source": [
    "# Let us take a look at the most frequently used word in the reviews\n",
    "from wordcloud import WordCloud\n",
    "word_cloud = WordCloud(width = 1000,\n",
    "                       height = 800,\n",
    "                       colormap = 'Blues', \n",
    "                       margin = 0,\n",
    "                       max_words = 183,  \n",
    "                       max_font_size = 120, min_font_size = 15,  \n",
    "                       background_color = \"white\").generate(\" \".join(data['Base_Reviews']))\n",
    "\n",
    "plt.figure(figsize = (10, 15))\n",
    "plt.imshow(word_cloud, interpolation = \"gaussian\")\n",
    "plt.axis(\"off\")\n",
    "plt.savefig(\"GPT Cloud-word-freq mode.png\", dpi=250)"
   ]
  },
  {
   "cell_type": "code",
   "execution_count": 31,
   "metadata": {},
   "outputs": [
    {
     "name": "stdout",
     "output_type": "stream",
     "text": [
      "time: 15 ms (started: 2022-05-14 12:44:18 +08:00)\n"
     ]
    }
   ],
   "source": [
    "df2 = data.sample(1000, random_state=1).copy()"
   ]
  },
  {
   "cell_type": "code",
   "execution_count": 32,
   "metadata": {},
   "outputs": [
    {
     "name": "stdout",
     "output_type": "stream",
     "text": [
      "Each of the 1000 reviews is represented by 497 features (TF-IDF score of unigrams and bigrams)\n",
      "time: 31 ms (started: 2022-05-14 12:44:18 +08:00)\n"
     ]
    }
   ],
   "source": [
    "tfidf = TfidfVectorizer(sublinear_tf=True, min_df=5,\n",
    "                        ngram_range=(1,1))\n",
    "\n",
    "# We transform each review into a vector\n",
    "df2_features = tfidf.fit_transform(df2.Base_Reviews).toarray()\n",
    "\n",
    "df2_labels = df2.category_id\n",
    "\n",
    "print(\"Each of the %d reviews is represented by %d features (TF-IDF score of unigrams and bigrams)\" %(df2_features.shape))"
   ]
  },
  {
   "cell_type": "code",
   "execution_count": 33,
   "metadata": {},
   "outputs": [
    {
     "data": {
      "text/plain": [
       "(1000, 497)"
      ]
     },
     "execution_count": 33,
     "metadata": {},
     "output_type": "execute_result"
    },
    {
     "name": "stdout",
     "output_type": "stream",
     "text": [
      "time: 0 ns (started: 2022-05-14 12:44:19 +08:00)\n"
     ]
    }
   ],
   "source": [
    "df2_features.shape"
   ]
  },
  {
   "cell_type": "code",
   "execution_count": 34,
   "metadata": {},
   "outputs": [
    {
     "name": "stdout",
     "output_type": "stream",
     "text": [
      "\n",
      "==> attacking:\n",
      "  * Most Correlated Unigrams are: and, charge, couldnâ, not, buy, garbage, money, kindle, work, love, get, expensive, works, good, useless, dont, sucks, doesnâ, great, pay\n",
      "  * Most Correlated Bigrams are: \n",
      "\n",
      "==> decision:\n",
      "  * Most Correlated Unigrams are: else, wasn, after, been, quickly, doesn, cannot, small, ran, stop, order, dog, reason, donâ, needed, going, didn, removed, uninstalled, deleted\n",
      "  * Most Correlated Bigrams are: \n",
      "\n",
      "==> issue:\n",
      "  * Most Correlated Unigrams are: game, love, tv, awful, unable, hand, easy, error, audio, great, doesn, live, on, ads, support, compatible, work, not, picture, sound\n",
      "  * Most Correlated Bigrams are: \n",
      "\n",
      "==> neutral:\n",
      "  * Most Correlated Unigrams are: crashes, bad, hard, program, product, my, and, guess, minutes, the, playing, it, file, fine, nice, like, works, good, okay, ok\n",
      "  * Most Correlated Bigrams are: \n",
      "\n",
      "==> supporting:\n",
      "  * Most Correlated Unigrams are: informative, problems, recipes, tool, learn, useless, amazing, pay, get, learning, works, doesn, didn, excellent, awesome, easy, work, love, not, great\n",
      "  * Most Correlated Bigrams are: \n",
      "time: 46 ms (started: 2022-05-14 12:44:19 +08:00)\n"
     ]
    }
   ],
   "source": [
    "# Finding the three most correlated terms with each of the categories\n",
    "N = 20\n",
    "for category, category_id in sorted(category_to_id.items()):\n",
    "  features_chi2 = chi2(df2_features, df2_labels == category_id)\n",
    "  indices = np.argsort(features_chi2[0])\n",
    "  feature_names = np.array(tfidf.get_feature_names())[indices]\n",
    "  unigrams = [v for v in feature_names if len(v.split(' ')) == 1]\n",
    "  bigrams = [v for v in feature_names if len(v.split(' ')) == 2]\n",
    "  print(\"\\n==> %s:\" %(category))\n",
    "  print(\"  * Most Correlated Unigrams are: %s\" %(', '.join(unigrams[-N:])))\n",
    "  print(\"  * Most Correlated Bigrams are: %s\" %(', '.join(bigrams[-N:])))"
   ]
  },
  {
   "cell_type": "code",
   "execution_count": 35,
   "metadata": {},
   "outputs": [
    {
     "name": "stdout",
     "output_type": "stream",
     "text": [
      "time: 0 ns (started: 2022-05-14 12:44:19 +08:00)\n"
     ]
    }
   ],
   "source": [
    "#limit the number of samples to be used in code runs\n",
    "data_size= 9870"
   ]
  },
  {
   "cell_type": "code",
   "execution_count": 36,
   "metadata": {},
   "outputs": [
    {
     "name": "stdout",
     "output_type": "stream",
     "text": [
      "time: 0 ns (started: 2022-05-14 12:44:20 +08:00)\n"
     ]
    }
   ],
   "source": [
    "vocab_size = 2000  # Only consider the top 90k words\n",
    "maxlen = 50  # Max sequence size                           # orignale 50 "
   ]
  },
  {
   "cell_type": "code",
   "execution_count": 37,
   "metadata": {},
   "outputs": [
    {
     "name": "stdout",
     "output_type": "stream",
     "text": [
      "time: 0 ns (started: 2022-05-14 12:44:21 +08:00)\n"
     ]
    }
   ],
   "source": [
    "# save features and targets from the 'data' (raw data)\n",
    "features, targets = data['Base_Reviews'], data['category_id']"
   ]
  },
  {
   "cell_type": "code",
   "execution_count": 38,
   "metadata": {},
   "outputs": [
    {
     "name": "stdout",
     "output_type": "stream",
     "text": [
      "time: 16 ms (started: 2022-05-14 12:44:21 +08:00)\n"
     ]
    }
   ],
   "source": [
    "train_features, test_features, train_targets, test_targets = train_test_split(\n",
    "        features, targets,\n",
    "        train_size=0.8,\n",
    "        test_size=0.2,\n",
    "        # random but same for all run, also accurancy depends on the\n",
    "        # selection of data e.g. if we put 10 then accuracy will be 1.0\n",
    "        # in this example\n",
    "        random_state=23,\n",
    "        # keep same proportion of 'target' in test and target data\n",
    "        stratify=targets\n",
    "    )"
   ]
  },
  {
   "cell_type": "code",
   "execution_count": 39,
   "metadata": {},
   "outputs": [
    {
     "name": "stdout",
     "output_type": "stream",
     "text": [
      "time: 0 ns (started: 2022-05-14 12:44:23 +08:00)\n"
     ]
    }
   ],
   "source": [
    "def custom_standardization(input_string): \n",
    "    first_input = tf.strings.regex_replace(input_string, \"İ\", \"I\")\n",
    "    lowercased = tf.strings.lower(first_input, encoding='utf-8') #Turn to lower case\n",
    "    stripped_html = tf.strings.regex_replace(lowercased, \"<br />\", \" \") #Remove html line-break tags\n",
    "    no_numbers = tf.strings.regex_replace(stripped_html, \"\\w*\\d\\w*\",\" \") #Remove numbers\n",
    "    no_punctuation = tf.strings.regex_replace(no_numbers,'[%s]' % re.escape(string.punctuation),'') #Remove punctuations\n",
    "    no_turkish_character = tf.strings.regex_replace(no_punctuation, \"ç\", \"c\") #Replace turkish characters\n",
    "    no_turkish_character = tf.strings.regex_replace(no_turkish_character, \"ğ\", \"g\")\n",
    "    no_turkish_character = tf.strings.regex_replace(no_turkish_character, \"ı\", \"i\")\n",
    "    no_turkish_character = tf.strings.regex_replace(no_turkish_character, \"ö\", \"o\")\n",
    "    no_turkish_character = tf.strings.regex_replace(no_turkish_character, \"ş\", \"s\")\n",
    "    no_turkish_character = tf.strings.regex_replace(no_turkish_character, \"ü\", \"u\")\n",
    "    no_read_more = tf.strings.regex_replace(no_turkish_character, \"...devamini oku\", \" \") #Remove \"Read More\"\n",
    "    return no_read_more"
   ]
  },
  {
   "cell_type": "code",
   "execution_count": 40,
   "metadata": {},
   "outputs": [
    {
     "name": "stdout",
     "output_type": "stream",
     "text": [
      "time: 63 ms (started: 2022-05-14 12:44:24 +08:00)\n"
     ]
    }
   ],
   "source": [
    "# Create a vectorization layer and adapt it to the text\n",
    "vectorize_layer = TextVectorization(\n",
    "    standardize=custom_standardization,\n",
    "    max_tokens=vocab_size - 1,\n",
    "    output_mode=\"int\",\n",
    "    output_sequence_length=maxlen,\n",
    ")"
   ]
  },
  {
   "cell_type": "code",
   "execution_count": 41,
   "metadata": {},
   "outputs": [
    {
     "name": "stdout",
     "output_type": "stream",
     "text": [
      "time: 422 ms (started: 2022-05-14 12:44:24 +08:00)\n"
     ]
    }
   ],
   "source": [
    "vectorize_layer.adapt(train_features)\n",
    "vocab = vectorize_layer.get_vocabulary() "
   ]
  },
  {
   "cell_type": "code",
   "execution_count": 42,
   "metadata": {},
   "outputs": [
    {
     "name": "stdout",
     "output_type": "stream",
     "text": [
      "vocab has the  1999  entries\n",
      "vocab has the following first 10 entries\n",
      "0  represents the word:  \n",
      "1  represents the word:  [UNK]\n",
      "2  represents the word:  to\n",
      "3  represents the word:  i\n",
      "4  represents the word:  it\n",
      "5  represents the word:  the\n",
      "6  represents the word:  and\n",
      "7  represents the word:  a\n",
      "8  represents the word:  app\n",
      "9  represents the word:  my\n",
      "time: 0 ns (started: 2022-05-14 12:44:25 +08:00)\n"
     ]
    }
   ],
   "source": [
    "print(\"vocab has the \", len(vocab),\" entries\")\n",
    "print(\"vocab has the following first 10 entries\")\n",
    "for word in range(10):\n",
    "  print(word, \" represents the word: \", vocab[word])"
   ]
  },
  {
   "cell_type": "code",
   "execution_count": 43,
   "metadata": {},
   "outputs": [
    {
     "name": "stdout",
     "output_type": "stream",
     "text": [
      "tf.Tensor(\n",
      "[ 10 315  12  40  23 388   2 197 137 181 103  14   5  35  66   0   0   0\n",
      "   0   0   0   0   0   0   0   0   0   0   0   0   0   0   0   0   0   0\n",
      "   0   0   0   0   0   0   0   0   0   0   0   0   0   0], shape=(50,), dtype=int64)\n",
      "time: 32 ms (started: 2022-05-14 12:44:25 +08:00)\n"
     ]
    }
   ],
   "source": [
    "# Vector for word \"user Comment\"\n",
    "print(vectorize_layer(\"This application is just great. Helps to mirror every device screen on the fire tv.\"))"
   ]
  },
  {
   "cell_type": "code",
   "execution_count": 44,
   "metadata": {},
   "outputs": [
    {
     "name": "stdout",
     "output_type": "stream",
     "text": [
      "tf.Tensor(\n",
      "[189 683 116   4  30  38   7   1 124   0   0   0   0   0   0   0   0   0\n",
      "   0   0   0   0   0   0   0   0   0   0   0   0   0   0   0   0   0   0\n",
      "   0   0   0   0   0   0   0   0   0   0   0   0   0   0], shape=(50,), dtype=int64)\n",
      "time: 16 ms (started: 2022-05-14 12:44:26 +08:00)\n"
     ]
    }
   ],
   "source": [
    "# Vector for word \"User comment\"\n",
    "print(vectorize_layer(\"Nothing dog about it. It's like a spa video\"))"
   ]
  },
  {
   "cell_type": "code",
   "execution_count": 45,
   "metadata": {},
   "outputs": [
    {
     "name": "stdout",
     "output_type": "stream",
     "text": [
      "time: 16 ms (started: 2022-05-14 12:44:26 +08:00)\n"
     ]
    }
   ],
   "source": [
    "# Pickle the config and weights\n",
    "pickle.dump({'config': vectorize_layer.get_config(),\n",
    "             'weights': vectorize_layer.get_weights()}\n",
    "            , open(\"tv_layer.pkl\", \"wb\"))\n",
    "\n",
    "# Later you can unpickle and use \n",
    "# `config` to create object and \n",
    "# `weights` to load the trained weights. "
   ]
  },
  {
   "cell_type": "code",
   "execution_count": 46,
   "metadata": {},
   "outputs": [
    {
     "name": "stdout",
     "output_type": "stream",
     "text": [
      "time: 109 ms (started: 2022-05-14 12:44:27 +08:00)\n"
     ]
    }
   ],
   "source": [
    "from_disk = pickle.load(open(\"tv_layer.pkl\", \"rb\"))\n",
    "new_vectorize_layer = TextVectorization.from_config(from_disk['config'])\n",
    "# You have to call `adapt` with some dummy data (BUG in Keras)\n",
    "new_vectorize_layer.adapt(tf.data.Dataset.from_tensor_slices([\"xyz\"]))\n",
    "new_vectorize_layer.set_weights(from_disk['weights'])"
   ]
  },
  {
   "cell_type": "code",
   "execution_count": 47,
   "metadata": {},
   "outputs": [
    {
     "name": "stdout",
     "output_type": "stream",
     "text": [
      "tf.Tensor(\n",
      "[ 10 315  12  40  23   0   0   0   0   0   0   0   0   0   0   0   0   0\n",
      "   0   0   0   0   0   0   0   0   0   0   0   0   0   0   0   0   0   0\n",
      "   0   0   0   0   0   0   0   0   0   0   0   0   0   0], shape=(50,), dtype=int64)\n",
      "time: 0 ns (started: 2022-05-14 12:44:27 +08:00)\n"
     ]
    }
   ],
   "source": [
    "# Vector for word \"Comment\"\n",
    "print(new_vectorize_layer(\"This application is just great.\"))"
   ]
  },
  {
   "cell_type": "code",
   "execution_count": 48,
   "metadata": {},
   "outputs": [
    {
     "name": "stdout",
     "output_type": "stream",
     "text": [
      "tf.Tensor(\n",
      "[189 683 116   4  30  38   7   1 124   0   0   0   0   0   0   0   0   0\n",
      "   0   0   0   0   0   0   0   0   0   0   0   0   0   0   0   0   0   0\n",
      "   0   0   0   0   0   0   0   0   0   0   0   0   0   0], shape=(50,), dtype=int64)\n",
      "time: 0 ns (started: 2022-05-14 12:44:28 +08:00)\n"
     ]
    }
   ],
   "source": [
    "# Vector for word \"comment\"\n",
    "print(new_vectorize_layer(\"Nothing dog about it. It's like a spa video\"))"
   ]
  },
  {
   "cell_type": "code",
   "execution_count": 49,
   "metadata": {},
   "outputs": [
    {
     "name": "stdout",
     "output_type": "stream",
     "text": [
      "tf.Tensor(\n",
      "[ 69  11  20   6 904   9  48   0   0   0   0   0   0   0   0   0   0   0\n",
      "   0   0   0   0   0   0   0   0   0   0   0   0   0   0   0   0   0   0\n",
      "   0   0   0   0   0   0   0   0   0   0   0   0   0   0], shape=(50,), dtype=int64)\n",
      "time: 16 ms (started: 2022-05-14 12:44:29 +08:00)\n"
     ]
    }
   ],
   "source": [
    "# Vector for word \"commnet\"\n",
    "print(new_vectorize_layer(\"Did not work and wasted my time\"))"
   ]
  },
  {
   "cell_type": "code",
   "execution_count": 50,
   "metadata": {},
   "outputs": [
    {
     "name": "stdout",
     "output_type": "stream",
     "text": [
      "time: 0 ns (started: 2022-05-14 12:44:29 +08:00)\n"
     ]
    }
   ],
   "source": [
    "def causal_attention_mask(batch_size, n_dest, n_src, dtype):\n",
    "    \"\"\"\n",
    "    Mask the upper half of the dot product matrix in self attention.\n",
    "    This prevents flow of information from future tokens to current token.\n",
    "    1's in the lower triangle, counting from the lower right corner.\n",
    "    \"\"\"\n",
    "    i = tf.range(n_dest)[:, None]\n",
    "    j = tf.range(n_src)\n",
    "    m = i >= j - n_src + n_dest\n",
    "    mask = tf.cast(m, dtype)\n",
    "    mask = tf.reshape(mask, [1, n_dest, n_src])\n",
    "    mult = tf.concat(\n",
    "        [tf.expand_dims(batch_size, -1), tf.constant([1, 1], dtype=tf.int32)], 0\n",
    "    )\n",
    "    return tf.tile(mask, mult)\n",
    "\n",
    "\n",
    "class TransformerBlock(layers.Layer):\n",
    "    def __init__(self, embed_dim, num_heads, ff_dim, rate=0.1, **kwargs):\n",
    "        super(TransformerBlock, self).__init__()\n",
    "        self.embed_dim=embed_dim\n",
    "        self.num_heads = num_heads\n",
    "        self.ff_dim =ff_dim\n",
    "        self.att = layers.MultiHeadAttention(num_heads, embed_dim)\n",
    "        self.ffn = keras.Sequential(\n",
    "            [layers.Dense(ff_dim, activation=\"relu\"), layers.Dense(embed_dim),]\n",
    "        )\n",
    "        self.layernorm1 = layers.LayerNormalization(epsilon=1e-6)\n",
    "        self.layernorm2 = layers.LayerNormalization(epsilon=1e-6)\n",
    "        self.dropout1 = layers.Dropout(rate)\n",
    "        self.dropout2 = layers.Dropout(rate)\n",
    "\n",
    "    def call(self, inputs):\n",
    "        input_shape = tf.shape(inputs)\n",
    "        batch_size = input_shape[0]\n",
    "        seq_len = input_shape[1]\n",
    "        # for masked-self attention add the mask:\n",
    "        # causal_mask = causal_attention_mask(batch_size, seq_len, seq_len, tf.bool)\n",
    "        # attention_output = self.att(inputs, inputs,attention_mask=causal_mask)\n",
    "        \n",
    "        attention_output = self.att(inputs, inputs) \n",
    "        \n",
    "        attention_output = self.dropout1(attention_output)\n",
    "        out1 = self.layernorm1(inputs + attention_output)\n",
    "        ffn_output = self.ffn(out1)\n",
    "        ffn_output = self.dropout2(ffn_output)\n",
    "        return self.layernorm2(out1 + ffn_output)\n",
    "    \n",
    "    # https://newbedev.com/saving-keras-models-with-custom-layers\n",
    "    def get_config(self):\n",
    "        config = super(TransformerBlock, self).get_config()\n",
    "        config.update({\n",
    "            'att': self.att,\n",
    "            'ffn': self.ffn,\n",
    "            'layernorm1': self.layernorm1,\n",
    "            'layernorm2':self.layernorm2,\n",
    "            'dropout1':self.dropout1,\n",
    "            'dropout2':self.dropout2,\n",
    "            'embed_dim': self.embed_dim,\n",
    "            'num_heads':self.num_heads,\n",
    "            'ff_dim':self.ff_dim \n",
    "\n",
    "        })\n",
    "        return config\n",
    "        #tf.keras.models.save_model(model, 'model.h5')\n",
    "        #new_model = tf.keras.models.load_model('model.h5', custom_objects={'CustomLayer': CustomLayer})"
   ]
  },
  {
   "cell_type": "code",
   "execution_count": 51,
   "metadata": {},
   "outputs": [
    {
     "name": "stdout",
     "output_type": "stream",
     "text": [
      "time: 0 ns (started: 2022-05-14 12:44:31 +08:00)\n"
     ]
    }
   ],
   "source": [
    "class TokenPositionEmbedding(layers.Layer):\n",
    "    def __init__(self, maxlen, vocab_size,  embed_dim, **kwargs):\n",
    "        super(TokenPositionEmbedding, self).__init__()\n",
    "        self.maxlen = maxlen\n",
    "        self.vocab_size = vocab_size\n",
    "        self.embed_dim = embed_dim\n",
    "        self.token_emb = layers.Embedding(input_dim=vocab_size, output_dim=embed_dim)\n",
    "        self.pos_emb = layers.Embedding(input_dim=maxlen, output_dim=embed_dim)\n",
    "\n",
    "    def call(self, X):\n",
    "        maxlen = tf.shape(X)[-1]\n",
    "        positions = tf.range(start=0, limit=maxlen, delta=1)\n",
    "        positions = self.pos_emb(positions)\n",
    "        X = self.token_emb(X)\n",
    "        return X + positions \n",
    "        \n",
    "    # https://newbedev.com/saving-keras-models-with-custom-layers\n",
    "    def get_config(self):\n",
    "        config = super(TokenPositionEmbedding, self).get_config()\n",
    "        config.update({\n",
    "            'token_emb': self.token_emb,\n",
    "            'pos_emb': self.pos_emb,\n",
    "            'maxlen': self.maxlen,\n",
    "            'vocab_size': self.vocab_size,\n",
    "            'embed_dim': self.embed_dim\n",
    "        })\n",
    "        return config\n",
    "        #tf.keras.models.save_model(model, 'model.h5')\n",
    "        #new_model = tf.keras.models.load_model('model.h5', custom_objects={'CustomLayer': CustomLayer})\n",
    "        "
   ]
  },
  {
   "cell_type": "code",
   "execution_count": 52,
   "metadata": {},
   "outputs": [
    {
     "name": "stdout",
     "output_type": "stream",
     "text": [
      "time: 344 ms (started: 2022-05-14 12:44:54 +08:00)\n"
     ]
    }
   ],
   "source": [
    "embed_dim = 256  # Embedding size for each token\n",
    "num_heads = 1  # Number of attention heads\n",
    "feed_forward_dim = 256  # Hidden layer size in feed forward network inside transformer\n",
    "\n",
    "\n",
    "def create_model():\n",
    "    inputs_tokens = layers.Input(shape=(maxlen,), dtype=tf.int32)\n",
    "    embedding_layer = TokenPositionEmbedding(maxlen, vocab_size, embed_dim)\n",
    "    x = embedding_layer(inputs_tokens)\n",
    "    transformer_block1 = TransformerBlock(embed_dim, num_heads, feed_forward_dim)\n",
    "    transformer_block2 = TransformerBlock(embed_dim, num_heads, feed_forward_dim)\n",
    "    x = transformer_block1(x)\n",
    "    x = transformer_block2(x)\n",
    "    x = layers.Flatten()(x)\n",
    "    outputs = layers.Dense(number_of_categories)(x)\n",
    "    model = keras.Model(inputs=inputs_tokens, outputs=outputs)\n",
    "    loss_fn = tf.keras.losses.SparseCategoricalCrossentropy(from_logits=True)\n",
    "    metric_fn  = tf.keras.metrics.SparseCategoricalAccuracy()\n",
    "    model.compile(optimizer=\"adam\", loss=loss_fn, metrics=metric_fn)  \n",
    "    \n",
    "    return model\n",
    "my_model=create_model()"
   ]
  },
  {
   "cell_type": "code",
   "execution_count": 53,
   "metadata": {},
   "outputs": [
    {
     "name": "stdout",
     "output_type": "stream",
     "text": [
      "Model: \"model\"\n",
      "_________________________________________________________________\n",
      " Layer (type)                Output Shape              Param #   \n",
      "=================================================================\n",
      " input_1 (InputLayer)        [(None, 50)]              0         \n",
      "                                                                 \n",
      " token_position_embedding (T  (None, 50, 256)          524800    \n",
      " okenPositionEmbedding)                                          \n",
      "                                                                 \n",
      " transformer_block (Transfor  (None, 50, 256)          395776    \n",
      " merBlock)                                                       \n",
      "                                                                 \n",
      " transformer_block_1 (Transf  (None, 50, 256)          395776    \n",
      " ormerBlock)                                                     \n",
      "                                                                 \n",
      " flatten (Flatten)           (None, 12800)             0         \n",
      "                                                                 \n",
      " dense_4 (Dense)             (None, 5)                 64005     \n",
      "                                                                 \n",
      "=================================================================\n",
      "Total params: 1,380,357\n",
      "Trainable params: 1,380,357\n",
      "Non-trainable params: 0\n",
      "_________________________________________________________________\n",
      "time: 16 ms (started: 2022-05-14 12:45:35 +08:00)\n"
     ]
    }
   ],
   "source": [
    "my_model.summary()"
   ]
  },
  {
   "cell_type": "code",
   "execution_count": 54,
   "metadata": {},
   "outputs": [
    {
     "name": "stdout",
     "output_type": "stream",
     "text": [
      "time: 0 ns (started: 2022-05-14 12:45:36 +08:00)\n"
     ]
    }
   ],
   "source": [
    "#!pip install pydot"
   ]
  },
  {
   "cell_type": "code",
   "execution_count": 55,
   "metadata": {},
   "outputs": [
    {
     "name": "stdout",
     "output_type": "stream",
     "text": [
      "time: 0 ns (started: 2022-05-14 12:45:37 +08:00)\n"
     ]
    }
   ],
   "source": [
    "#!pip install graphviz "
   ]
  },
  {
   "cell_type": "code",
   "execution_count": 56,
   "metadata": {
    "scrolled": true
   },
   "outputs": [
    {
     "name": "stdout",
     "output_type": "stream",
     "text": [
      "You must install pydot (`pip install pydot`) and install graphviz (see instructions at https://graphviz.gitlab.io/download/) for plot_model/model_to_dot to work.\n",
      "time: 16 ms (started: 2022-05-14 12:45:38 +08:00)\n"
     ]
    }
   ],
   "source": [
    "tf.keras.utils.plot_model(my_model,show_shapes=True)"
   ]
  },
  {
   "cell_type": "code",
   "execution_count": 57,
   "metadata": {},
   "outputs": [
    {
     "name": "stdout",
     "output_type": "stream",
     "text": [
      "time: 0 ns (started: 2022-05-14 12:45:38 +08:00)\n"
     ]
    }
   ],
   "source": [
    "checkpoint_filepath = './checkpoint'\n",
    "model_checkpoint_callback = tf.keras.callbacks.ModelCheckpoint(\n",
    "    filepath=checkpoint_filepath,\n",
    "    save_weights_only=False)"
   ]
  },
  {
   "cell_type": "code",
   "execution_count": 58,
   "metadata": {},
   "outputs": [
    {
     "name": "stdout",
     "output_type": "stream",
     "text": [
      "235/235 [==============================] - ETA: 0s - loss: 1.8514 - sparse_categorical_accuracy: 0.4326"
     ]
    },
    {
     "name": "stderr",
     "output_type": "stream",
     "text": [
      "WARNING:absl:Found untraced functions such as embedding_layer_call_fn, embedding_layer_call_and_return_conditional_losses, embedding_1_layer_call_fn, embedding_1_layer_call_and_return_conditional_losses, multi_head_attention_layer_call_fn while saving (showing 5 of 48). These functions will not be directly callable after loading.\n"
     ]
    },
    {
     "name": "stdout",
     "output_type": "stream",
     "text": [
      "INFO:tensorflow:Assets written to: .\\checkpoint\\assets\n"
     ]
    },
    {
     "name": "stderr",
     "output_type": "stream",
     "text": [
      "INFO:tensorflow:Assets written to: .\\checkpoint\\assets\n"
     ]
    },
    {
     "name": "stdout",
     "output_type": "stream",
     "text": [
      "235/235 [==============================] - 34s 136ms/step - loss: 1.8514 - sparse_categorical_accuracy: 0.4326\n",
      "235/235 [==============================] - ETA: 0s - loss: 0.8411 - sparse_categorical_accuracy: 0.6994"
     ]
    },
    {
     "name": "stderr",
     "output_type": "stream",
     "text": [
      "WARNING:absl:Found untraced functions such as embedding_layer_call_fn, embedding_layer_call_and_return_conditional_losses, embedding_1_layer_call_fn, embedding_1_layer_call_and_return_conditional_losses, multi_head_attention_layer_call_fn while saving (showing 5 of 48). These functions will not be directly callable after loading.\n"
     ]
    },
    {
     "name": "stdout",
     "output_type": "stream",
     "text": [
      "INFO:tensorflow:Assets written to: .\\checkpoint\\assets\n"
     ]
    },
    {
     "name": "stderr",
     "output_type": "stream",
     "text": [
      "INFO:tensorflow:Assets written to: .\\checkpoint\\assets\n"
     ]
    },
    {
     "name": "stdout",
     "output_type": "stream",
     "text": [
      "235/235 [==============================] - 32s 138ms/step - loss: 0.8411 - sparse_categorical_accuracy: 0.6994\n",
      "235/235 [==============================] - ETA: 0s - loss: 0.4834 - sparse_categorical_accuracy: 0.8269"
     ]
    },
    {
     "name": "stderr",
     "output_type": "stream",
     "text": [
      "WARNING:absl:Found untraced functions such as embedding_layer_call_fn, embedding_layer_call_and_return_conditional_losses, embedding_1_layer_call_fn, embedding_1_layer_call_and_return_conditional_losses, multi_head_attention_layer_call_fn while saving (showing 5 of 48). These functions will not be directly callable after loading.\n"
     ]
    },
    {
     "name": "stdout",
     "output_type": "stream",
     "text": [
      "INFO:tensorflow:Assets written to: .\\checkpoint\\assets\n"
     ]
    },
    {
     "name": "stderr",
     "output_type": "stream",
     "text": [
      "INFO:tensorflow:Assets written to: .\\checkpoint\\assets\n"
     ]
    },
    {
     "name": "stdout",
     "output_type": "stream",
     "text": [
      "235/235 [==============================] - 34s 145ms/step - loss: 0.4834 - sparse_categorical_accuracy: 0.8269\n",
      "235/235 [==============================] - ETA: 0s - loss: 0.3029 - sparse_categorical_accuracy: 0.8951"
     ]
    },
    {
     "name": "stderr",
     "output_type": "stream",
     "text": [
      "WARNING:absl:Found untraced functions such as embedding_layer_call_fn, embedding_layer_call_and_return_conditional_losses, embedding_1_layer_call_fn, embedding_1_layer_call_and_return_conditional_losses, multi_head_attention_layer_call_fn while saving (showing 5 of 48). These functions will not be directly callable after loading.\n"
     ]
    },
    {
     "name": "stdout",
     "output_type": "stream",
     "text": [
      "INFO:tensorflow:Assets written to: .\\checkpoint\\assets\n"
     ]
    },
    {
     "name": "stderr",
     "output_type": "stream",
     "text": [
      "INFO:tensorflow:Assets written to: .\\checkpoint\\assets\n"
     ]
    },
    {
     "name": "stdout",
     "output_type": "stream",
     "text": [
      "235/235 [==============================] - 31s 131ms/step - loss: 0.3029 - sparse_categorical_accuracy: 0.8951\n",
      "235/235 [==============================] - ETA: 0s - loss: 0.2094 - sparse_categorical_accuracy: 0.9314"
     ]
    },
    {
     "name": "stderr",
     "output_type": "stream",
     "text": [
      "WARNING:absl:Found untraced functions such as embedding_layer_call_fn, embedding_layer_call_and_return_conditional_losses, embedding_1_layer_call_fn, embedding_1_layer_call_and_return_conditional_losses, multi_head_attention_layer_call_fn while saving (showing 5 of 48). These functions will not be directly callable after loading.\n"
     ]
    },
    {
     "name": "stdout",
     "output_type": "stream",
     "text": [
      "INFO:tensorflow:Assets written to: .\\checkpoint\\assets\n"
     ]
    },
    {
     "name": "stderr",
     "output_type": "stream",
     "text": [
      "INFO:tensorflow:Assets written to: .\\checkpoint\\assets\n"
     ]
    },
    {
     "name": "stdout",
     "output_type": "stream",
     "text": [
      "235/235 [==============================] - 34s 143ms/step - loss: 0.2094 - sparse_categorical_accuracy: 0.9314\n",
      "235/235 [==============================] - ETA: 0s - loss: 0.1685 - sparse_categorical_accuracy: 0.9415"
     ]
    },
    {
     "name": "stderr",
     "output_type": "stream",
     "text": [
      "WARNING:absl:Found untraced functions such as embedding_layer_call_fn, embedding_layer_call_and_return_conditional_losses, embedding_1_layer_call_fn, embedding_1_layer_call_and_return_conditional_losses, multi_head_attention_layer_call_fn while saving (showing 5 of 48). These functions will not be directly callable after loading.\n"
     ]
    },
    {
     "name": "stdout",
     "output_type": "stream",
     "text": [
      "INFO:tensorflow:Assets written to: .\\checkpoint\\assets\n"
     ]
    },
    {
     "name": "stderr",
     "output_type": "stream",
     "text": [
      "INFO:tensorflow:Assets written to: .\\checkpoint\\assets\n"
     ]
    },
    {
     "name": "stdout",
     "output_type": "stream",
     "text": [
      "235/235 [==============================] - 34s 147ms/step - loss: 0.1685 - sparse_categorical_accuracy: 0.9415\n",
      "235/235 [==============================] - ETA: 0s - loss: 0.1321 - sparse_categorical_accuracy: 0.9552"
     ]
    },
    {
     "name": "stderr",
     "output_type": "stream",
     "text": [
      "WARNING:absl:Found untraced functions such as embedding_layer_call_fn, embedding_layer_call_and_return_conditional_losses, embedding_1_layer_call_fn, embedding_1_layer_call_and_return_conditional_losses, multi_head_attention_layer_call_fn while saving (showing 5 of 48). These functions will not be directly callable after loading.\n"
     ]
    },
    {
     "name": "stdout",
     "output_type": "stream",
     "text": [
      "INFO:tensorflow:Assets written to: .\\checkpoint\\assets\n"
     ]
    },
    {
     "name": "stderr",
     "output_type": "stream",
     "text": [
      "INFO:tensorflow:Assets written to: .\\checkpoint\\assets\n"
     ]
    },
    {
     "name": "stdout",
     "output_type": "stream",
     "text": [
      "235/235 [==============================] - 32s 138ms/step - loss: 0.1321 - sparse_categorical_accuracy: 0.9552\n",
      "234/235 [============================>.] - ETA: 0s - loss: 0.1453 - sparse_categorical_accuracy: 0.9485"
     ]
    },
    {
     "name": "stderr",
     "output_type": "stream",
     "text": [
      "WARNING:absl:Found untraced functions such as embedding_layer_call_fn, embedding_layer_call_and_return_conditional_losses, embedding_1_layer_call_fn, embedding_1_layer_call_and_return_conditional_losses, multi_head_attention_layer_call_fn while saving (showing 5 of 48). These functions will not be directly callable after loading.\n"
     ]
    },
    {
     "name": "stdout",
     "output_type": "stream",
     "text": [
      "INFO:tensorflow:Assets written to: .\\checkpoint\\assets\n"
     ]
    },
    {
     "name": "stderr",
     "output_type": "stream",
     "text": [
      "INFO:tensorflow:Assets written to: .\\checkpoint\\assets\n"
     ]
    },
    {
     "name": "stdout",
     "output_type": "stream",
     "text": [
      "235/235 [==============================] - 32s 134ms/step - loss: 0.1462 - sparse_categorical_accuracy: 0.9483\n",
      "234/235 [============================>.] - ETA: 0s - loss: 0.1516 - sparse_categorical_accuracy: 0.9466"
     ]
    },
    {
     "name": "stderr",
     "output_type": "stream",
     "text": [
      "WARNING:absl:Found untraced functions such as embedding_layer_call_fn, embedding_layer_call_and_return_conditional_losses, embedding_1_layer_call_fn, embedding_1_layer_call_and_return_conditional_losses, multi_head_attention_layer_call_fn while saving (showing 5 of 48). These functions will not be directly callable after loading.\n"
     ]
    },
    {
     "name": "stdout",
     "output_type": "stream",
     "text": [
      "INFO:tensorflow:Assets written to: .\\checkpoint\\assets\n"
     ]
    },
    {
     "name": "stderr",
     "output_type": "stream",
     "text": [
      "INFO:tensorflow:Assets written to: .\\checkpoint\\assets\n"
     ]
    },
    {
     "name": "stdout",
     "output_type": "stream",
     "text": [
      "235/235 [==============================] - 32s 134ms/step - loss: 0.1520 - sparse_categorical_accuracy: 0.9463\n",
      "235/235 [==============================] - ETA: 0s - loss: 0.1370 - sparse_categorical_accuracy: 0.9507"
     ]
    },
    {
     "name": "stderr",
     "output_type": "stream",
     "text": [
      "WARNING:absl:Found untraced functions such as embedding_layer_call_fn, embedding_layer_call_and_return_conditional_losses, embedding_1_layer_call_fn, embedding_1_layer_call_and_return_conditional_losses, multi_head_attention_layer_call_fn while saving (showing 5 of 48). These functions will not be directly callable after loading.\n"
     ]
    },
    {
     "name": "stdout",
     "output_type": "stream",
     "text": [
      "INFO:tensorflow:Assets written to: .\\checkpoint\\assets\n"
     ]
    },
    {
     "name": "stderr",
     "output_type": "stream",
     "text": [
      "INFO:tensorflow:Assets written to: .\\checkpoint\\assets\n"
     ]
    },
    {
     "name": "stdout",
     "output_type": "stream",
     "text": [
      "235/235 [==============================] - 31s 131ms/step - loss: 0.1370 - sparse_categorical_accuracy: 0.9507\n",
      "235/235 [==============================] - ETA: 0s - loss: 0.3300 - sparse_categorical_accuracy: 0.8887"
     ]
    },
    {
     "name": "stderr",
     "output_type": "stream",
     "text": [
      "WARNING:absl:Found untraced functions such as embedding_layer_call_fn, embedding_layer_call_and_return_conditional_losses, embedding_1_layer_call_fn, embedding_1_layer_call_and_return_conditional_losses, multi_head_attention_layer_call_fn while saving (showing 5 of 48). These functions will not be directly callable after loading.\n"
     ]
    },
    {
     "name": "stdout",
     "output_type": "stream",
     "text": [
      "INFO:tensorflow:Assets written to: .\\checkpoint\\assets\n"
     ]
    },
    {
     "name": "stderr",
     "output_type": "stream",
     "text": [
      "INFO:tensorflow:Assets written to: .\\checkpoint\\assets\n"
     ]
    },
    {
     "name": "stdout",
     "output_type": "stream",
     "text": [
      "235/235 [==============================] - 32s 135ms/step - loss: 0.3300 - sparse_categorical_accuracy: 0.8887\n",
      "235/235 [==============================] - ETA: 0s - loss: 0.5942 - sparse_categorical_accuracy: 0.7860"
     ]
    },
    {
     "name": "stderr",
     "output_type": "stream",
     "text": [
      "WARNING:absl:Found untraced functions such as embedding_layer_call_fn, embedding_layer_call_and_return_conditional_losses, embedding_1_layer_call_fn, embedding_1_layer_call_and_return_conditional_losses, multi_head_attention_layer_call_fn while saving (showing 5 of 48). These functions will not be directly callable after loading.\n"
     ]
    },
    {
     "name": "stdout",
     "output_type": "stream",
     "text": [
      "INFO:tensorflow:Assets written to: .\\checkpoint\\assets\n"
     ]
    },
    {
     "name": "stderr",
     "output_type": "stream",
     "text": [
      "INFO:tensorflow:Assets written to: .\\checkpoint\\assets\n"
     ]
    },
    {
     "name": "stdout",
     "output_type": "stream",
     "text": [
      "235/235 [==============================] - 31s 134ms/step - loss: 0.5942 - sparse_categorical_accuracy: 0.7860\n",
      "235/235 [==============================] - ETA: 0s - loss: 0.2855 - sparse_categorical_accuracy: 0.8986"
     ]
    },
    {
     "name": "stderr",
     "output_type": "stream",
     "text": [
      "WARNING:absl:Found untraced functions such as embedding_layer_call_fn, embedding_layer_call_and_return_conditional_losses, embedding_1_layer_call_fn, embedding_1_layer_call_and_return_conditional_losses, multi_head_attention_layer_call_fn while saving (showing 5 of 48). These functions will not be directly callable after loading.\n"
     ]
    },
    {
     "name": "stdout",
     "output_type": "stream",
     "text": [
      "INFO:tensorflow:Assets written to: .\\checkpoint\\assets\n"
     ]
    },
    {
     "name": "stderr",
     "output_type": "stream",
     "text": [
      "INFO:tensorflow:Assets written to: .\\checkpoint\\assets\n"
     ]
    },
    {
     "name": "stdout",
     "output_type": "stream",
     "text": [
      "235/235 [==============================] - 31s 133ms/step - loss: 0.2855 - sparse_categorical_accuracy: 0.8986\n",
      "235/235 [==============================] - ETA: 0s - loss: 0.2977 - sparse_categorical_accuracy: 0.8942"
     ]
    },
    {
     "name": "stderr",
     "output_type": "stream",
     "text": [
      "WARNING:absl:Found untraced functions such as embedding_layer_call_fn, embedding_layer_call_and_return_conditional_losses, embedding_1_layer_call_fn, embedding_1_layer_call_and_return_conditional_losses, multi_head_attention_layer_call_fn while saving (showing 5 of 48). These functions will not be directly callable after loading.\n"
     ]
    },
    {
     "name": "stdout",
     "output_type": "stream",
     "text": [
      "INFO:tensorflow:Assets written to: .\\checkpoint\\assets\n"
     ]
    },
    {
     "name": "stderr",
     "output_type": "stream",
     "text": [
      "INFO:tensorflow:Assets written to: .\\checkpoint\\assets\n"
     ]
    },
    {
     "name": "stdout",
     "output_type": "stream",
     "text": [
      "235/235 [==============================] - 37s 160ms/step - loss: 0.2977 - sparse_categorical_accuracy: 0.8942\n",
      "235/235 [==============================] - ETA: 0s - loss: 0.2214 - sparse_categorical_accuracy: 0.9181"
     ]
    },
    {
     "name": "stderr",
     "output_type": "stream",
     "text": [
      "WARNING:absl:Found untraced functions such as embedding_layer_call_fn, embedding_layer_call_and_return_conditional_losses, embedding_1_layer_call_fn, embedding_1_layer_call_and_return_conditional_losses, multi_head_attention_layer_call_fn while saving (showing 5 of 48). These functions will not be directly callable after loading.\n"
     ]
    },
    {
     "name": "stdout",
     "output_type": "stream",
     "text": [
      "INFO:tensorflow:Assets written to: .\\checkpoint\\assets\n"
     ]
    },
    {
     "name": "stderr",
     "output_type": "stream",
     "text": [
      "INFO:tensorflow:Assets written to: .\\checkpoint\\assets\n"
     ]
    },
    {
     "name": "stdout",
     "output_type": "stream",
     "text": [
      "235/235 [==============================] - 51s 215ms/step - loss: 0.2214 - sparse_categorical_accuracy: 0.9181\n",
      "235/235 [==============================] - ETA: 0s - loss: 0.1666 - sparse_categorical_accuracy: 0.9424"
     ]
    },
    {
     "name": "stderr",
     "output_type": "stream",
     "text": [
      "WARNING:absl:Found untraced functions such as embedding_layer_call_fn, embedding_layer_call_and_return_conditional_losses, embedding_1_layer_call_fn, embedding_1_layer_call_and_return_conditional_losses, multi_head_attention_layer_call_fn while saving (showing 5 of 48). These functions will not be directly callable after loading.\n"
     ]
    },
    {
     "name": "stdout",
     "output_type": "stream",
     "text": [
      "INFO:tensorflow:Assets written to: .\\checkpoint\\assets\n"
     ]
    },
    {
     "name": "stderr",
     "output_type": "stream",
     "text": [
      "INFO:tensorflow:Assets written to: .\\checkpoint\\assets\n"
     ]
    },
    {
     "name": "stdout",
     "output_type": "stream",
     "text": [
      "235/235 [==============================] - 49s 207ms/step - loss: 0.1666 - sparse_categorical_accuracy: 0.9424\n",
      "235/235 [==============================] - ETA: 0s - loss: 0.2687 - sparse_categorical_accuracy: 0.9054"
     ]
    },
    {
     "name": "stderr",
     "output_type": "stream",
     "text": [
      "WARNING:absl:Found untraced functions such as embedding_layer_call_fn, embedding_layer_call_and_return_conditional_losses, embedding_1_layer_call_fn, embedding_1_layer_call_and_return_conditional_losses, multi_head_attention_layer_call_fn while saving (showing 5 of 48). These functions will not be directly callable after loading.\n"
     ]
    },
    {
     "name": "stdout",
     "output_type": "stream",
     "text": [
      "INFO:tensorflow:Assets written to: .\\checkpoint\\assets\n"
     ]
    },
    {
     "name": "stderr",
     "output_type": "stream",
     "text": [
      "INFO:tensorflow:Assets written to: .\\checkpoint\\assets\n"
     ]
    },
    {
     "name": "stdout",
     "output_type": "stream",
     "text": [
      "235/235 [==============================] - 50s 213ms/step - loss: 0.2687 - sparse_categorical_accuracy: 0.9054\n",
      "235/235 [==============================] - ETA: 0s - loss: 0.1448 - sparse_categorical_accuracy: 0.9487"
     ]
    },
    {
     "name": "stderr",
     "output_type": "stream",
     "text": [
      "WARNING:absl:Found untraced functions such as embedding_layer_call_fn, embedding_layer_call_and_return_conditional_losses, embedding_1_layer_call_fn, embedding_1_layer_call_and_return_conditional_losses, multi_head_attention_layer_call_fn while saving (showing 5 of 48). These functions will not be directly callable after loading.\n"
     ]
    },
    {
     "name": "stdout",
     "output_type": "stream",
     "text": [
      "INFO:tensorflow:Assets written to: .\\checkpoint\\assets\n"
     ]
    },
    {
     "name": "stderr",
     "output_type": "stream",
     "text": [
      "INFO:tensorflow:Assets written to: .\\checkpoint\\assets\n"
     ]
    },
    {
     "name": "stdout",
     "output_type": "stream",
     "text": [
      "235/235 [==============================] - 52s 223ms/step - loss: 0.1448 - sparse_categorical_accuracy: 0.9487\n",
      "235/235 [==============================] - ETA: 0s - loss: 0.0989 - sparse_categorical_accuracy: 0.9626"
     ]
    },
    {
     "name": "stderr",
     "output_type": "stream",
     "text": [
      "WARNING:absl:Found untraced functions such as embedding_layer_call_fn, embedding_layer_call_and_return_conditional_losses, embedding_1_layer_call_fn, embedding_1_layer_call_and_return_conditional_losses, multi_head_attention_layer_call_fn while saving (showing 5 of 48). These functions will not be directly callable after loading.\n"
     ]
    },
    {
     "name": "stdout",
     "output_type": "stream",
     "text": [
      "INFO:tensorflow:Assets written to: .\\checkpoint\\assets\n"
     ]
    },
    {
     "name": "stderr",
     "output_type": "stream",
     "text": [
      "INFO:tensorflow:Assets written to: .\\checkpoint\\assets\n"
     ]
    },
    {
     "name": "stdout",
     "output_type": "stream",
     "text": [
      "235/235 [==============================] - 49s 211ms/step - loss: 0.0989 - sparse_categorical_accuracy: 0.9626\n",
      "235/235 [==============================] - ETA: 0s - loss: 0.0802 - sparse_categorical_accuracy: 0.9700"
     ]
    },
    {
     "name": "stderr",
     "output_type": "stream",
     "text": [
      "WARNING:absl:Found untraced functions such as embedding_layer_call_fn, embedding_layer_call_and_return_conditional_losses, embedding_1_layer_call_fn, embedding_1_layer_call_and_return_conditional_losses, multi_head_attention_layer_call_fn while saving (showing 5 of 48). These functions will not be directly callable after loading.\n"
     ]
    },
    {
     "name": "stdout",
     "output_type": "stream",
     "text": [
      "INFO:tensorflow:Assets written to: .\\checkpoint\\assets\n"
     ]
    },
    {
     "name": "stderr",
     "output_type": "stream",
     "text": [
      "INFO:tensorflow:Assets written to: .\\checkpoint\\assets\n"
     ]
    },
    {
     "name": "stdout",
     "output_type": "stream",
     "text": [
      "235/235 [==============================] - 51s 216ms/step - loss: 0.0802 - sparse_categorical_accuracy: 0.9700\n",
      "time: 12min 52s (started: 2022-05-14 12:45:44 +08:00)\n"
     ]
    }
   ],
   "source": [
    "X,y = train_features,train_targets\n",
    "\n",
    "balanced_accuracy_scores = []\n",
    "matthews_corrcoef_scores = []\n",
    "f1_scores = []\n",
    "conf_matrix_list_of_arrays = []\n",
    "\n",
    "# prepare cross validation\n",
    "n=20\n",
    "seed=1\n",
    "k_fold = KFold(n_splits=n, random_state=seed, shuffle=True)\n",
    "\n",
    "for train_index, test_index in k_fold.split(X,y):\n",
    "  X_train, X_test = X.iloc[train_index], X.iloc[test_index]\n",
    "  y_train, y_test = y.iloc[train_index], y.iloc[test_index]\n",
    "\n",
    "  X_train_dtm = vectorize_layer(X_train)\n",
    "  X_test_dtm = vectorize_layer(X_test)\n",
    "  history = my_model.fit(X_train_dtm, y_train, verbose=1, epochs=1, callbacks=[model_checkpoint_callback])\n",
    "  y_pred_class = my_model.predict(X_test_dtm)\n",
    "\n",
    "  y_pred_class = np.argmax(y_pred_class,axis=1)\n",
    "  \n",
    "  conf_matrix = confusion_matrix(y_test, y_pred_class)\n",
    "  conf_matrix_list_of_arrays.append(conf_matrix)\n",
    "  \n",
    "  balanced_accuracy_scores.append(balanced_accuracy_score(y_test, y_pred_class))\n",
    "  matthews_corrcoef_scores.append(matthews_corrcoef(y_test, y_pred_class))\n",
    "  f1_scores.append(f1_score(y_test, y_pred_class, average='weighted'))"
   ]
  },
  {
   "cell_type": "code",
   "execution_count": 59,
   "metadata": {},
   "outputs": [
    {
     "name": "stdout",
     "output_type": "stream",
     "text": [
      "Mean of conf_matrix:  [[7.9900e+01 4.0000e-01 4.5500e+00 3.0000e+00 6.6500e+00]\n",
      " [1.4500e+00 1.4650e+01 7.5000e-01 5.0000e-02 8.5000e-01]\n",
      " [6.9000e+00 3.5000e-01 6.5900e+01 6.5000e-01 6.3500e+00]\n",
      " [1.6500e+00 5.0000e-02 3.5000e-01 9.4000e+00 2.6500e+00]\n",
      " [3.5000e+00 2.5000e-01 3.6000e+00 1.8000e+00 1.7935e+02]]\n",
      "time: 0 ns (started: 2022-05-14 13:22:55 +08:00)\n"
     ]
    }
   ],
   "source": [
    "mean_of_conf_matrix_arrays = np.mean(conf_matrix_list_of_arrays, axis=0)\n",
    "print('Mean of conf_matrix: ', mean_of_conf_matrix_arrays)"
   ]
  },
  {
   "cell_type": "code",
   "execution_count": 60,
   "metadata": {},
   "outputs": [
    {
     "name": "stdout",
     "output_type": "stream",
     "text": [
      "time: 0 ns (started: 2022-05-14 13:23:03 +08:00)\n"
     ]
    }
   ],
   "source": [
    "conf_mat = mean_of_conf_matrix_arrays.astype(int)"
   ]
  },
  {
   "cell_type": "code",
   "execution_count": 61,
   "metadata": {},
   "outputs": [
    {
     "name": "stdout",
     "output_type": "stream",
     "text": [
      "time: 16 ms (started: 2022-05-14 13:23:13 +08:00)\n"
     ]
    }
   ],
   "source": [
    "category_id_df = data[['category', 'category_id']].drop_duplicates()"
   ]
  },
  {
   "cell_type": "code",
   "execution_count": 62,
   "metadata": {},
   "outputs": [
    {
     "data": {
      "image/png": "[encoded data removed]",
      "text/plain": [
       "<Figure size 576x576 with 2 Axes>"
      ]
     },
     "metadata": {
      "needs_background": "light"
     },
     "output_type": "display_data"
    },
    {
     "name": "stdout",
     "output_type": "stream",
     "text": [
      "time: 625 ms (started: 2022-05-14 13:23:51 +08:00)\n"
     ]
    }
   ],
   "source": [
    "fig, ax = plt.subplots(figsize=(8,8))\n",
    "sns.heatmap(conf_mat, annot=True, cmap=\"Blues\", fmt='d',\n",
    "            xticklabels=category_id_df.category.values, \n",
    "            yticklabels=category_id_df.category.values)\n",
    "plt.ylabel('Actual', fontsize=12)\n",
    "plt.xlabel('Predicted', fontsize=12)\n",
    "plt.title(\"GPT3 CONFUSION MATRIX \\n\", size=16);\n",
    "plt.savefig(\"GPT Confusion-metrix mode.png\", dpi=400)"
   ]
  },
  {
   "cell_type": "code",
   "execution_count": 63,
   "metadata": {},
   "outputs": [
    {
     "name": "stdout",
     "output_type": "stream",
     "text": [
      "              precision    recall  f1-score   support\n",
      "\n",
      "           0       0.99      0.93      0.96        99\n",
      "           1       0.89      1.00      0.94        17\n",
      "           2       0.97      0.99      0.98        84\n",
      "           3       0.86      0.75      0.80        16\n",
      "           4       0.97      0.99      0.98       179\n",
      "\n",
      "    accuracy                           0.97       395\n",
      "   macro avg       0.94      0.93      0.93       395\n",
      "weighted avg       0.97      0.97      0.97       395\n",
      "\n",
      "time: 15 ms (started: 2022-05-14 13:24:09 +08:00)\n"
     ]
    }
   ],
   "source": [
    "from sklearn.metrics import classification_report\n",
    "print(classification_report(y_test, y_pred_class))"
   ]
  },
  {
   "cell_type": "code",
   "execution_count": 64,
   "metadata": {},
   "outputs": [
    {
     "name": "stdout",
     "output_type": "stream",
     "text": [
      "Mean of balanced_accuracy_scores:  0.8220036781636584\n",
      "time: 0 ns (started: 2022-05-14 13:24:20 +08:00)\n"
     ]
    }
   ],
   "source": [
    "balanced_accuracy_scores = np.array(balanced_accuracy_scores)\n",
    "print('Mean of balanced_accuracy_scores: ', np.mean(balanced_accuracy_scores, axis=0))"
   ]
  },
  {
   "cell_type": "code",
   "execution_count": 65,
   "metadata": {},
   "outputs": [
    {
     "name": "stdout",
     "output_type": "stream",
     "text": [
      "Mean of matthews_corrcoef_scores:  0.8280615774269334\n",
      "time: 0 ns (started: 2022-05-14 13:24:21 +08:00)\n"
     ]
    }
   ],
   "source": [
    "matthews_corrcoef_scores = np.array(matthews_corrcoef_scores)\n",
    "print('Mean of matthews_corrcoef_scores: ', np.mean(matthews_corrcoef_scores, axis=0))"
   ]
  },
  {
   "cell_type": "code",
   "execution_count": 66,
   "metadata": {},
   "outputs": [
    {
     "name": "stdout",
     "output_type": "stream",
     "text": [
      "Mean of f1_scores:  0.8783871609315851\n",
      "time: 0 ns (started: 2022-05-14 13:24:21 +08:00)\n"
     ]
    }
   ],
   "source": [
    "f1_scores = np.array(f1_scores)\n",
    "print('Mean of f1_scores: ', np.mean(f1_scores, axis=0))"
   ]
  },
  {
   "cell_type": "code",
   "execution_count": 67,
   "metadata": {},
   "outputs": [
    {
     "name": "stdout",
     "output_type": "stream",
     "text": [
      "Mean of f1_scores:  0.8783871609315851\n",
      "time: 0 ns (started: 2022-05-14 13:24:22 +08:00)\n"
     ]
    }
   ],
   "source": [
    "f1_scores = np.array(f1_scores)\n",
    "print('Mean of f1_scores: ', np.mean(f1_scores, axis=0))"
   ]
  },
  {
   "cell_type": "code",
   "execution_count": 68,
   "metadata": {},
   "outputs": [
    {
     "name": "stdout",
     "output_type": "stream",
     "text": [
      "balanced_accuracy_score_test : 0.6313648345234879\n",
      "matthews_corrcoef_score_test : 0.5777822734903286\n",
      "f1_score_test : 0.7106260061018594\n",
      "time: 1.91 s (started: 2022-05-14 13:24:22 +08:00)\n"
     ]
    }
   ],
   "source": [
    "test_features_vc = vectorize_layer(test_features)\n",
    "y_pred_test = my_model.predict(test_features_vc)\n",
    "y_pred_test = np.argmax(y_pred_test,axis=1)\n",
    " \n",
    "balanced_accuracy_score_test = balanced_accuracy_score(test_targets, y_pred_test)\n",
    "print('balanced_accuracy_score_test :',balanced_accuracy_score_test)\n",
    "matthews_corrcoef_score_test = matthews_corrcoef(test_targets, y_pred_test)\n",
    "print('matthews_corrcoef_score_test :',matthews_corrcoef_score_test)\n",
    "f1_score_test = f1_score(test_targets, y_pred_test, average='weighted')\n",
    "print('f1_score_test :',f1_score_test)"
   ]
  },
  {
   "cell_type": "code",
   "execution_count": 69,
   "metadata": {},
   "outputs": [
    {
     "name": "stdout",
     "output_type": "stream",
     "text": [
      "decision\n",
      "time: 47 ms (started: 2022-05-14 13:24:24 +08:00)\n"
     ]
    }
   ],
   "source": [
    "new_review = \"I removed it.\"\n",
    "predictions=my_model.predict(vectorize_layer([new_review]))\n",
    "for pred in predictions:\n",
    "  print(id_to_category[np.argmax(pred)])"
   ]
  },
  {
   "cell_type": "code",
   "execution_count": 70,
   "metadata": {},
   "outputs": [
    {
     "name": "stdout",
     "output_type": "stream",
     "text": [
      "decision\n",
      "supporting\n",
      "attacking\n",
      "neutral\n",
      "issue\n",
      "time: 62 ms (started: 2022-05-14 13:24:24 +08:00)\n"
     ]
    }
   ],
   "source": [
    "examples = [\n",
    "  \"I removed it.\",\n",
    "  \"Does what it says great app!\",\n",
    "  \"Not compatable.\",\n",
    "  \"Ok.\",\n",
    "  \"don't waste ur time , this app won't help ur Amazon Tablet run smoother or faster.  skip it\",\n",
    "]\n",
    "predictions=my_model.predict(vectorize_layer(examples))\n",
    "for pred in predictions:\n",
    "  print(id_to_category[np.argmax(pred)])"
   ]
  },
  {
   "cell_type": "code",
   "execution_count": 71,
   "metadata": {},
   "outputs": [
    {
     "name": "stderr",
     "output_type": "stream",
     "text": [
      "WARNING:absl:Found untraced functions such as embedding_layer_call_fn, embedding_layer_call_and_return_conditional_losses, embedding_1_layer_call_fn, embedding_1_layer_call_and_return_conditional_losses, multi_head_attention_layer_call_fn while saving (showing 5 of 48). These functions will not be directly callable after loading.\n"
     ]
    },
    {
     "name": "stdout",
     "output_type": "stream",
     "text": [
      "INFO:tensorflow:Assets written to: MultiClassTextClassifier\\assets\n"
     ]
    },
    {
     "name": "stderr",
     "output_type": "stream",
     "text": [
      "INFO:tensorflow:Assets written to: MultiClassTextClassifier\\assets\n"
     ]
    },
    {
     "name": "stdout",
     "output_type": "stream",
     "text": [
      "time: 5.41 s (started: 2022-05-14 13:24:59 +08:00)\n"
     ]
    }
   ],
   "source": [
    "tf.keras.models.save_model(my_model, 'MultiClassTextClassifier')"
   ]
  },
  {
   "cell_type": "code",
   "execution_count": null,
   "metadata": {},
   "outputs": [],
   "source": []
  },
  {
   "cell_type": "code",
   "execution_count": null,
   "metadata": {},
   "outputs": [],
   "source": []
  },
  {
   "cell_type": "code",
   "execution_count": null,
   "metadata": {},
   "outputs": [],
   "source": []
  },
  {
   "cell_type": "code",
   "execution_count": null,
   "metadata": {},
   "outputs": [],
   "source": []
  },
  {
   "cell_type": "code",
   "execution_count": null,
   "metadata": {},
   "outputs": [],
   "source": []
  },
  {
   "cell_type": "code",
   "execution_count": null,
   "metadata": {},
   "outputs": [],
   "source": []
  },
  {
   "cell_type": "code",
   "execution_count": null,
   "metadata": {},
   "outputs": [],
   "source": []
  },
  {
   "cell_type": "code",
   "execution_count": null,
   "metadata": {},
   "outputs": [],
   "source": []
  },
  {
   "cell_type": "code",
   "execution_count": null,
   "metadata": {},
   "outputs": [],
   "source": []
  },
  {
   "cell_type": "code",
   "execution_count": null,
   "metadata": {},
   "outputs": [],
   "source": []
  },
  {
   "cell_type": "code",
   "execution_count": null,
   "metadata": {},
   "outputs": [],
   "source": []
  },
  {
   "cell_type": "code",
   "execution_count": null,
   "metadata": {},
   "outputs": [],
   "source": []
  },
  {
   "cell_type": "code",
   "execution_count": null,
   "metadata": {},
   "outputs": [],
   "source": []
  },
  {
   "cell_type": "code",
   "execution_count": null,
   "metadata": {},
   "outputs": [],
   "source": []
  },
  {
   "cell_type": "code",
   "execution_count": null,
   "metadata": {},
   "outputs": [],
   "source": []
  },
  {
   "cell_type": "code",
   "execution_count": null,
   "metadata": {},
   "outputs": [],
   "source": []
  },
  {
   "cell_type": "code",
   "execution_count": null,
   "metadata": {},
   "outputs": [],
   "source": []
  },
  {
   "cell_type": "code",
   "execution_count": null,
   "metadata": {},
   "outputs": [],
   "source": []
  },
  {
   "cell_type": "code",
   "execution_count": null,
   "metadata": {},
   "outputs": [],
   "source": []
  },
  {
   "cell_type": "code",
   "execution_count": null,
   "metadata": {},
   "outputs": [],
   "source": []
  },
  {
   "cell_type": "code",
   "execution_count": null,
   "metadata": {},
   "outputs": [],
   "source": []
  },
  {
   "cell_type": "code",
   "execution_count": null,
   "metadata": {},
   "outputs": [],
   "source": []
  },
  {
   "cell_type": "code",
   "execution_count": null,
   "metadata": {},
   "outputs": [],
   "source": []
  },
  {
   "cell_type": "code",
   "execution_count": null,
   "metadata": {},
   "outputs": [],
   "source": []
  },
  {
   "cell_type": "code",
   "execution_count": null,
   "metadata": {},
   "outputs": [],
   "source": []
  },
  {
   "cell_type": "code",
   "execution_count": null,
   "metadata": {},
   "outputs": [],
   "source": []
  },
  {
   "cell_type": "code",
   "execution_count": null,
   "metadata": {},
   "outputs": [],
   "source": []
  },
  {
   "cell_type": "code",
   "execution_count": null,
   "metadata": {},
   "outputs": [],
   "source": []
  },
  {
   "cell_type": "code",
   "execution_count": null,
   "metadata": {},
   "outputs": [],
   "source": []
  },
  {
   "cell_type": "code",
   "execution_count": null,
   "metadata": {},
   "outputs": [],
   "source": []
  },
  {
   "cell_type": "code",
   "execution_count": null,
   "metadata": {},
   "outputs": [],
   "source": []
  },
  {
   "cell_type": "code",
   "execution_count": null,
   "metadata": {},
   "outputs": [],
   "source": []
  },
  {
   "cell_type": "code",
   "execution_count": null,
   "metadata": {},
   "outputs": [],
   "source": []
  },
  {
   "cell_type": "code",
   "execution_count": null,
   "metadata": {},
   "outputs": [],
   "source": []
  },
  {
   "cell_type": "code",
   "execution_count": null,
   "metadata": {},
   "outputs": [],
   "source": []
  },
  {
   "cell_type": "code",
   "execution_count": null,
   "metadata": {},
   "outputs": [],
   "source": []
  },
  {
   "cell_type": "code",
   "execution_count": null,
   "metadata": {},
   "outputs": [],
   "source": []
  },
  {
   "cell_type": "code",
   "execution_count": null,
   "metadata": {},
   "outputs": [],
   "source": []
  },
  {
   "cell_type": "code",
   "execution_count": null,
   "metadata": {},
   "outputs": [],
   "source": []
  },
  {
   "cell_type": "code",
   "execution_count": null,
   "metadata": {},
   "outputs": [],
   "source": []
  },
  {
   "cell_type": "code",
   "execution_count": null,
   "metadata": {},
   "outputs": [],
   "source": []
  },
  {
   "cell_type": "code",
   "execution_count": null,
   "metadata": {},
   "outputs": [],
   "source": []
  },
  {
   "cell_type": "code",
   "execution_count": null,
   "metadata": {},
   "outputs": [],
   "source": []
  },
  {
   "cell_type": "code",
   "execution_count": null,
   "metadata": {},
   "outputs": [],
   "source": []
  },
  {
   "cell_type": "code",
   "execution_count": null,
   "metadata": {},
   "outputs": [],
   "source": []
  },
  {
   "cell_type": "code",
   "execution_count": null,
   "metadata": {},
   "outputs": [],
   "source": []
  },
  {
   "cell_type": "code",
   "execution_count": null,
   "metadata": {},
   "outputs": [],
   "source": []
  },
  {
   "cell_type": "code",
   "execution_count": null,
   "metadata": {},
   "outputs": [],
   "source": []
  },
  {
   "cell_type": "code",
   "execution_count": null,
   "metadata": {},
   "outputs": [],
   "source": []
  },
  {
   "cell_type": "code",
   "execution_count": null,
   "metadata": {},
   "outputs": [],
   "source": []
  },
  {
   "cell_type": "code",
   "execution_count": null,
   "metadata": {},
   "outputs": [],
   "source": []
  },
  {
   "cell_type": "code",
   "execution_count": null,
   "metadata": {},
   "outputs": [],
   "source": []
  },
  {
   "cell_type": "code",
   "execution_count": null,
   "metadata": {},
   "outputs": [],
   "source": []
  },
  {
   "cell_type": "code",
   "execution_count": null,
   "metadata": {},
   "outputs": [],
   "source": []
  },
  {
   "cell_type": "code",
   "execution_count": null,
   "metadata": {},
   "outputs": [],
   "source": []
  },
  {
   "cell_type": "code",
   "execution_count": null,
   "metadata": {},
   "outputs": [],
   "source": []
  },
  {
   "cell_type": "code",
   "execution_count": null,
   "metadata": {},
   "outputs": [],
   "source": []
  },
  {
   "cell_type": "code",
   "execution_count": null,
   "metadata": {},
   "outputs": [],
   "source": []
  },
  {
   "cell_type": "code",
   "execution_count": null,
   "metadata": {},
   "outputs": [],
   "source": []
  },
  {
   "cell_type": "code",
   "execution_count": null,
   "metadata": {},
   "outputs": [],
   "source": []
  },
  {
   "cell_type": "code",
   "execution_count": null,
   "metadata": {},
   "outputs": [],
   "source": []
  },
  {
   "cell_type": "code",
   "execution_count": null,
   "metadata": {},
   "outputs": [],
   "source": []
  },
  {
   "cell_type": "code",
   "execution_count": null,
   "metadata": {},
   "outputs": [],
   "source": []
  },
  {
   "cell_type": "code",
   "execution_count": null,
   "metadata": {},
   "outputs": [],
   "source": []
  },
  {
   "cell_type": "code",
   "execution_count": null,
   "metadata": {},
   "outputs": [],
   "source": []
  },
  {
   "cell_type": "code",
   "execution_count": null,
   "metadata": {},
   "outputs": [],
   "source": []
  },
  {
   "cell_type": "code",
   "execution_count": null,
   "metadata": {},
   "outputs": [],
   "source": []
  },
  {
   "cell_type": "code",
   "execution_count": null,
   "metadata": {},
   "outputs": [],
   "source": []
  },
  {
   "cell_type": "code",
   "execution_count": null,
   "metadata": {},
   "outputs": [],
   "source": []
  },
  {
   "cell_type": "code",
   "execution_count": null,
   "metadata": {},
   "outputs": [],
   "source": []
  },
  {
   "cell_type": "code",
   "execution_count": null,
   "metadata": {},
   "outputs": [],
   "source": []
  },
  {
   "cell_type": "code",
   "execution_count": null,
   "metadata": {},
   "outputs": [],
   "source": []
  },
  {
   "cell_type": "code",
   "execution_count": null,
   "metadata": {},
   "outputs": [],
   "source": []
  },
  {
   "cell_type": "code",
   "execution_count": null,
   "metadata": {},
   "outputs": [],
   "source": []
  },
  {
   "cell_type": "code",
   "execution_count": null,
   "metadata": {},
   "outputs": [],
   "source": []
  },
  {
   "cell_type": "code",
   "execution_count": null,
   "metadata": {},
   "outputs": [],
   "source": []
  },
  {
   "cell_type": "code",
   "execution_count": null,
   "metadata": {},
   "outputs": [],
   "source": []
  },
  {
   "cell_type": "code",
   "execution_count": null,
   "metadata": {},
   "outputs": [],
   "source": []
  },
  {
   "cell_type": "code",
   "execution_count": null,
   "metadata": {},
   "outputs": [],
   "source": []
  },
  {
   "cell_type": "code",
   "execution_count": null,
   "metadata": {},
   "outputs": [],
   "source": []
  },
  {
   "cell_type": "code",
   "execution_count": null,
   "metadata": {},
   "outputs": [],
   "source": []
  },
  {
   "cell_type": "code",
   "execution_count": null,
   "metadata": {},
   "outputs": [],
   "source": []
  },
  {
   "cell_type": "code",
   "execution_count": null,
   "metadata": {},
   "outputs": [],
   "source": []
  },
  {
   "cell_type": "code",
   "execution_count": null,
   "metadata": {},
   "outputs": [],
   "source": []
  },
  {
   "cell_type": "code",
   "execution_count": null,
   "metadata": {},
   "outputs": [],
   "source": []
  },
  {
   "cell_type": "code",
   "execution_count": null,
   "metadata": {},
   "outputs": [],
   "source": []
  },
  {
   "cell_type": "code",
   "execution_count": null,
   "metadata": {},
   "outputs": [],
   "source": []
  },
  {
   "cell_type": "code",
   "execution_count": null,
   "metadata": {},
   "outputs": [],
   "source": []
  },
  {
   "cell_type": "code",
   "execution_count": null,
   "metadata": {},
   "outputs": [],
   "source": []
  },
  {
   "cell_type": "code",
   "execution_count": null,
   "metadata": {},
   "outputs": [],
   "source": []
  },
  {
   "cell_type": "code",
   "execution_count": null,
   "metadata": {},
   "outputs": [],
   "source": []
  },
  {
   "cell_type": "code",
   "execution_count": null,
   "metadata": {},
   "outputs": [],
   "source": []
  },
  {
   "cell_type": "code",
   "execution_count": null,
   "metadata": {},
   "outputs": [],
   "source": []
  },
  {
   "cell_type": "code",
   "execution_count": null,
   "metadata": {},
   "outputs": [],
   "source": []
  },
  {
   "cell_type": "code",
   "execution_count": null,
   "metadata": {},
   "outputs": [],
   "source": []
  },
  {
   "cell_type": "code",
   "execution_count": null,
   "metadata": {},
   "outputs": [],
   "source": []
  },
  {
   "cell_type": "code",
   "execution_count": null,
   "metadata": {},
   "outputs": [],
   "source": []
  },
  {
   "cell_type": "code",
   "execution_count": null,
   "metadata": {},
   "outputs": [],
   "source": []
  },
  {
   "cell_type": "code",
   "execution_count": null,
   "metadata": {},
   "outputs": [],
   "source": []
  },
  {
   "cell_type": "code",
   "execution_count": null,
   "metadata": {},
   "outputs": [],
   "source": []
  },
  {
   "cell_type": "code",
   "execution_count": null,
   "metadata": {},
   "outputs": [],
   "source": []
  },
  {
   "cell_type": "code",
   "execution_count": null,
   "metadata": {},
   "outputs": [],
   "source": []
  },
  {
   "cell_type": "code",
   "execution_count": null,
   "metadata": {},
   "outputs": [],
   "source": []
  },
  {
   "cell_type": "code",
   "execution_count": null,
   "metadata": {},
   "outputs": [],
   "source": []
  },
  {
   "cell_type": "code",
   "execution_count": null,
   "metadata": {},
   "outputs": [],
   "source": []
  },
  {
   "cell_type": "code",
   "execution_count": null,
   "metadata": {},
   "outputs": [],
   "source": []
  },
  {
   "cell_type": "code",
   "execution_count": null,
   "metadata": {},
   "outputs": [],
   "source": []
  },
  {
   "cell_type": "code",
   "execution_count": null,
   "metadata": {},
   "outputs": [],
   "source": []
  },
  {
   "cell_type": "code",
   "execution_count": null,
   "metadata": {},
   "outputs": [],
   "source": []
  },
  {
   "cell_type": "code",
   "execution_count": null,
   "metadata": {},
   "outputs": [],
   "source": []
  },
  {
   "cell_type": "code",
   "execution_count": null,
   "metadata": {},
   "outputs": [],
   "source": []
  },
  {
   "cell_type": "code",
   "execution_count": null,
   "metadata": {},
   "outputs": [],
   "source": []
  },
  {
   "cell_type": "code",
   "execution_count": null,
   "metadata": {},
   "outputs": [],
   "source": []
  },
  {
   "cell_type": "code",
   "execution_count": null,
   "metadata": {},
   "outputs": [],
   "source": []
  },
  {
   "cell_type": "code",
   "execution_count": null,
   "metadata": {},
   "outputs": [],
   "source": []
  },
  {
   "cell_type": "code",
   "execution_count": null,
   "metadata": {},
   "outputs": [],
   "source": []
  },
  {
   "cell_type": "code",
   "execution_count": null,
   "metadata": {},
   "outputs": [],
   "source": []
  },
  {
   "cell_type": "code",
   "execution_count": null,
   "metadata": {},
   "outputs": [],
   "source": []
  },
  {
   "cell_type": "code",
   "execution_count": null,
   "metadata": {},
   "outputs": [],
   "source": []
  },
  {
   "cell_type": "code",
   "execution_count": null,
   "metadata": {},
   "outputs": [],
   "source": []
  },
  {
   "cell_type": "code",
   "execution_count": null,
   "metadata": {},
   "outputs": [],
   "source": []
  },
  {
   "cell_type": "code",
   "execution_count": null,
   "metadata": {},
   "outputs": [],
   "source": []
  },
  {
   "cell_type": "code",
   "execution_count": null,
   "metadata": {},
   "outputs": [],
   "source": []
  },
  {
   "cell_type": "code",
   "execution_count": null,
   "metadata": {},
   "outputs": [],
   "source": []
  },
  {
   "cell_type": "code",
   "execution_count": null,
   "metadata": {},
   "outputs": [],
   "source": []
  },
  {
   "cell_type": "code",
   "execution_count": null,
   "metadata": {},
   "outputs": [],
   "source": []
  },
  {
   "cell_type": "code",
   "execution_count": null,
   "metadata": {},
   "outputs": [],
   "source": []
  },
  {
   "cell_type": "code",
   "execution_count": null,
   "metadata": {},
   "outputs": [],
   "source": []
  },
  {
   "cell_type": "code",
   "execution_count": null,
   "metadata": {},
   "outputs": [],
   "source": []
  },
  {
   "cell_type": "code",
   "execution_count": null,
   "metadata": {},
   "outputs": [],
   "source": []
  },
  {
   "cell_type": "code",
   "execution_count": null,
   "metadata": {},
   "outputs": [],
   "source": []
  },
  {
   "cell_type": "code",
   "execution_count": null,
   "metadata": {},
   "outputs": [],
   "source": []
  },
  {
   "cell_type": "code",
   "execution_count": null,
   "metadata": {},
   "outputs": [],
   "source": []
  },
  {
   "cell_type": "code",
   "execution_count": null,
   "metadata": {},
   "outputs": [],
   "source": []
  },
  {
   "cell_type": "code",
   "execution_count": null,
   "metadata": {},
   "outputs": [],
   "source": []
  },
  {
   "cell_type": "code",
   "execution_count": null,
   "metadata": {},
   "outputs": [],
   "source": []
  },
  {
   "cell_type": "code",
   "execution_count": null,
   "metadata": {},
   "outputs": [],
   "source": []
  },
  {
   "cell_type": "code",
   "execution_count": null,
   "metadata": {},
   "outputs": [],
   "source": []
  },
  {
   "cell_type": "code",
   "execution_count": null,
   "metadata": {},
   "outputs": [],
   "source": []
  },
  {
   "cell_type": "code",
   "execution_count": null,
   "metadata": {},
   "outputs": [],
   "source": []
  },
  {
   "cell_type": "code",
   "execution_count": null,
   "metadata": {},
   "outputs": [],
   "source": []
  },
  {
   "cell_type": "code",
   "execution_count": null,
   "metadata": {},
   "outputs": [],
   "source": []
  },
  {
   "cell_type": "code",
   "execution_count": null,
   "metadata": {},
   "outputs": [],
   "source": []
  },
  {
   "cell_type": "code",
   "execution_count": null,
   "metadata": {},
   "outputs": [],
   "source": []
  },
  {
   "cell_type": "code",
   "execution_count": null,
   "metadata": {},
   "outputs": [],
   "source": []
  },
  {
   "cell_type": "code",
   "execution_count": null,
   "metadata": {},
   "outputs": [],
   "source": []
  },
  {
   "cell_type": "code",
   "execution_count": null,
   "metadata": {},
   "outputs": [],
   "source": []
  },
  {
   "cell_type": "code",
   "execution_count": null,
   "metadata": {},
   "outputs": [],
   "source": []
  },
  {
   "cell_type": "code",
   "execution_count": null,
   "metadata": {},
   "outputs": [],
   "source": []
  },
  {
   "cell_type": "code",
   "execution_count": null,
   "metadata": {},
   "outputs": [],
   "source": []
  },
  {
   "cell_type": "code",
   "execution_count": null,
   "metadata": {},
   "outputs": [],
   "source": []
  },
  {
   "cell_type": "code",
   "execution_count": null,
   "metadata": {},
   "outputs": [],
   "source": []
  },
  {
   "cell_type": "code",
   "execution_count": null,
   "metadata": {},
   "outputs": [],
   "source": []
  },
  {
   "cell_type": "code",
   "execution_count": null,
   "metadata": {},
   "outputs": [],
   "source": []
  },
  {
   "cell_type": "code",
   "execution_count": null,
   "metadata": {},
   "outputs": [],
   "source": []
  },
  {
   "cell_type": "code",
   "execution_count": null,
   "metadata": {},
   "outputs": [],
   "source": []
  },
  {
   "cell_type": "code",
   "execution_count": null,
   "metadata": {},
   "outputs": [],
   "source": []
  },
  {
   "cell_type": "code",
   "execution_count": null,
   "metadata": {},
   "outputs": [],
   "source": []
  }
 ],
 "metadata": {
  "kernelspec": {
   "display_name": "Python 3",
   "language": "python",
   "name": "python3"
  },
  "language_info": {
   "codemirror_mode": {
    "name": "ipython",
    "version": 3
   },
   "file_extension": ".py",
   "mimetype": "text/x-python",
   "name": "python",
   "nbconvert_exporter": "python",
   "pygments_lexer": "ipython3",
   "version": "3.7.6"
  }
 },
 "nbformat": 4,
 "nbformat_minor": 4
}
